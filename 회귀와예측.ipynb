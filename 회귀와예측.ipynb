{
  "nbformat": 4,
  "nbformat_minor": 0,
  "metadata": {
    "colab": {
      "provenance": [],
      "authorship_tag": "ABX9TyNZ0uywC2AFUVAwFdsGTlDy",
      "include_colab_link": true
    },
    "kernelspec": {
      "name": "python3",
      "display_name": "Python 3"
    },
    "language_info": {
      "name": "python"
    }
  },
  "cells": [
    {
      "cell_type": "markdown",
      "metadata": {
        "id": "view-in-github",
        "colab_type": "text"
      },
      "source": [
        "<a href=\"https://colab.research.google.com/github/parkmicheal1114/ADP-Statistics/blob/main/%ED%9A%8C%EA%B7%80%EC%99%80%EC%98%88%EC%B8%A1.ipynb\" target=\"_parent\"><img src=\"https://colab.research.google.com/assets/colab-badge.svg\" alt=\"Open In Colab\"/></a>"
      ]
    },
    {
      "cell_type": "code",
      "source": [
        "!!pip install dmba #dmba 패키지"
      ],
      "metadata": {
        "colab": {
          "base_uri": "https://localhost:8080/"
        },
        "id": "ToT-dQChziJ9",
        "outputId": "cf279107-2d51-4613-affd-6acb30fc62a6"
      },
      "execution_count": 1,
      "outputs": [
        {
          "output_type": "execute_result",
          "data": {
            "text/plain": [
              "['Collecting dmba',\n",
              " '  Downloading dmba-0.2.4-py3-none-any.whl.metadata (1.9 kB)',\n",
              " 'Requirement already satisfied: graphviz in /usr/local/lib/python3.10/dist-packages (from dmba) (0.20.3)',\n",
              " 'Requirement already satisfied: matplotlib in /usr/local/lib/python3.10/dist-packages (from dmba) (3.7.1)',\n",
              " 'Requirement already satisfied: numpy in /usr/local/lib/python3.10/dist-packages (from dmba) (1.25.2)',\n",
              " 'Requirement already satisfied: pandas in /usr/local/lib/python3.10/dist-packages (from dmba) (2.0.3)',\n",
              " 'Requirement already satisfied: scikit-learn in /usr/local/lib/python3.10/dist-packages (from dmba) (1.3.2)',\n",
              " 'Requirement already satisfied: scipy in /usr/local/lib/python3.10/dist-packages (from dmba) (1.13.1)',\n",
              " 'Requirement already satisfied: contourpy>=1.0.1 in /usr/local/lib/python3.10/dist-packages (from matplotlib->dmba) (1.2.1)',\n",
              " 'Requirement already satisfied: cycler>=0.10 in /usr/local/lib/python3.10/dist-packages (from matplotlib->dmba) (0.12.1)',\n",
              " 'Requirement already satisfied: fonttools>=4.22.0 in /usr/local/lib/python3.10/dist-packages (from matplotlib->dmba) (4.53.1)',\n",
              " 'Requirement already satisfied: kiwisolver>=1.0.1 in /usr/local/lib/python3.10/dist-packages (from matplotlib->dmba) (1.4.5)',\n",
              " 'Requirement already satisfied: packaging>=20.0 in /usr/local/lib/python3.10/dist-packages (from matplotlib->dmba) (24.1)',\n",
              " 'Requirement already satisfied: pillow>=6.2.0 in /usr/local/lib/python3.10/dist-packages (from matplotlib->dmba) (9.4.0)',\n",
              " 'Requirement already satisfied: pyparsing>=2.3.1 in /usr/local/lib/python3.10/dist-packages (from matplotlib->dmba) (3.1.2)',\n",
              " 'Requirement already satisfied: python-dateutil>=2.7 in /usr/local/lib/python3.10/dist-packages (from matplotlib->dmba) (2.8.2)',\n",
              " 'Requirement already satisfied: pytz>=2020.1 in /usr/local/lib/python3.10/dist-packages (from pandas->dmba) (2024.1)',\n",
              " 'Requirement already satisfied: tzdata>=2022.1 in /usr/local/lib/python3.10/dist-packages (from pandas->dmba) (2024.1)',\n",
              " 'Requirement already satisfied: joblib>=1.1.1 in /usr/local/lib/python3.10/dist-packages (from scikit-learn->dmba) (1.4.2)',\n",
              " 'Requirement already satisfied: threadpoolctl>=2.0.0 in /usr/local/lib/python3.10/dist-packages (from scikit-learn->dmba) (3.5.0)',\n",
              " 'Requirement already satisfied: six>=1.5 in /usr/local/lib/python3.10/dist-packages (from python-dateutil>=2.7->matplotlib->dmba) (1.16.0)',\n",
              " 'Downloading dmba-0.2.4-py3-none-any.whl (11.8 MB)',\n",
              " '\\x1b[?25l   \\x1b[90m━━━━━━━━━━━━━━━━━━━━━━━━━━━━━━━━━━━━━━━━\\x1b[0m \\x1b[32m0.0/11.8 MB\\x1b[0m \\x1b[31m?\\x1b[0m eta \\x1b[36m-:--:--\\x1b[0m',\n",
              " '\\x1b[2K   \\x1b[90m━━━━━━━━━━━━━━━━━━━━━━━━━━━━━━━━━━━━━━━━\\x1b[0m \\x1b[32m0.1/11.8 MB\\x1b[0m \\x1b[31m3.8 MB/s\\x1b[0m eta \\x1b[36m0:00:04\\x1b[0m',\n",
              " '\\x1b[2K   \\x1b[91m━━\\x1b[0m\\x1b[91m╸\\x1b[0m\\x1b[90m━━━━━━━━━━━━━━━━━━━━━━━━━━━━━━━━━━━━━\\x1b[0m \\x1b[32m0.8/11.8 MB\\x1b[0m \\x1b[31m9.9 MB/s\\x1b[0m eta \\x1b[36m0:00:02\\x1b[0m',\n",
              " '\\x1b[2K   \\x1b[91m━━━━━\\x1b[0m\\x1b[90m╺\\x1b[0m\\x1b[90m━━━━━━━━━━━━━━━━━━━━━━━━━━━━━━━━━━\\x1b[0m \\x1b[32m1.5/11.8 MB\\x1b[0m \\x1b[31m13.1 MB/s\\x1b[0m eta \\x1b[36m0:00:01\\x1b[0m',\n",
              " '\\x1b[2K   \\x1b[91m━━━━━━━━━\\x1b[0m\\x1b[90m╺\\x1b[0m\\x1b[90m━━━━━━━━━━━━━━━━━━━━━━━━━━━━━━\\x1b[0m \\x1b[32m2.7/11.8 MB\\x1b[0m \\x1b[31m17.0 MB/s\\x1b[0m eta \\x1b[36m0:00:01\\x1b[0m',\n",
              " '\\x1b[2K   \\x1b[91m━━━━━━━━━━━━\\x1b[0m\\x1b[90m╺\\x1b[0m\\x1b[90m━━━━━━━━━━━━━━━━━━━━━━━━━━━\\x1b[0m \\x1b[32m3.7/11.8 MB\\x1b[0m \\x1b[31m18.9 MB/s\\x1b[0m eta \\x1b[36m0:00:01\\x1b[0m',\n",
              " '\\x1b[2K   \\x1b[91m━━━━━━━━━━━━━━━━━━\\x1b[0m\\x1b[90m╺\\x1b[0m\\x1b[90m━━━━━━━━━━━━━━━━━━━━━\\x1b[0m \\x1b[32m5.4/11.8 MB\\x1b[0m \\x1b[31m23.3 MB/s\\x1b[0m eta \\x1b[36m0:00:01\\x1b[0m',\n",
              " '\\x1b[2K   \\x1b[91m━━━━━━━━━━━━━━━━━━━━━━\\x1b[0m\\x1b[91m╸\\x1b[0m\\x1b[90m━━━━━━━━━━━━━━━━━\\x1b[0m \\x1b[32m6.8/11.8 MB\\x1b[0m \\x1b[31m24.9 MB/s\\x1b[0m eta \\x1b[36m0:00:01\\x1b[0m',\n",
              " '\\x1b[2K   \\x1b[91m━━━━━━━━━━━━━━━━━━━━━━━━━\\x1b[0m\\x1b[91m╸\\x1b[0m\\x1b[90m━━━━━━━━━━━━━━\\x1b[0m \\x1b[32m7.5/11.8 MB\\x1b[0m \\x1b[31m24.4 MB/s\\x1b[0m eta \\x1b[36m0:00:01\\x1b[0m',\n",
              " '\\x1b[2K   \\x1b[91m━━━━━━━━━━━━━━━━━━━━━━━━━━━━━━━━━━━━\\x1b[0m\\x1b[91m╸\\x1b[0m\\x1b[90m━━━\\x1b[0m \\x1b[32m10.9/11.8 MB\\x1b[0m \\x1b[31m37.6 MB/s\\x1b[0m eta \\x1b[36m0:00:01\\x1b[0m',\n",
              " '\\x1b[2K   \\x1b[91m━━━━━━━━━━━━━━━━━━━━━━━━━━━━━━━━━━━━━━━\\x1b[0m\\x1b[91m╸\\x1b[0m \\x1b[32m11.8/11.8 MB\\x1b[0m \\x1b[31m41.0 MB/s\\x1b[0m eta \\x1b[36m0:00:01\\x1b[0m',\n",
              " '\\x1b[2K   \\x1b[91m━━━━━━━━━━━━━━━━━━━━━━━━━━━━━━━━━━━━━━━\\x1b[0m\\x1b[91m╸\\x1b[0m \\x1b[32m11.8/11.8 MB\\x1b[0m \\x1b[31m41.0 MB/s\\x1b[0m eta \\x1b[36m0:00:01\\x1b[0m',\n",
              " '\\x1b[2K   \\x1b[91m━━━━━━━━━━━━━━━━━━━━━━━━━━━━━━━━━━━━━━━\\x1b[0m\\x1b[91m╸\\x1b[0m \\x1b[32m11.8/11.8 MB\\x1b[0m \\x1b[31m41.0 MB/s\\x1b[0m eta \\x1b[36m0:00:01\\x1b[0m',\n",
              " '\\x1b[2K   \\x1b[91m━━━━━━━━━━━━━━━━━━━━━━━━━━━━━━━━━━━━━━━\\x1b[0m\\x1b[91m╸\\x1b[0m \\x1b[32m11.8/11.8 MB\\x1b[0m \\x1b[31m41.0 MB/s\\x1b[0m eta \\x1b[36m0:00:01\\x1b[0m',\n",
              " '\\x1b[2K   \\x1b[90m━━━━━━━━━━━━━━━━━━━━━━━━━━━━━━━━━━━━━━━━\\x1b[0m \\x1b[32m11.8/11.8 MB\\x1b[0m \\x1b[31m25.2 MB/s\\x1b[0m eta \\x1b[36m0:00:00\\x1b[0m',\n",
              " '\\x1b[?25hInstalling collected packages: dmba',\n",
              " 'Successfully installed dmba-0.2.4']"
            ]
          },
          "metadata": {},
          "execution_count": 1
        }
      ]
    },
    {
      "cell_type": "code",
      "source": [
        "import pandas as pd\n",
        "import numpy as np\n",
        "import scipy.stats as st\n",
        "import statsmodels.api as sm"
      ],
      "metadata": {
        "id": "Li_hC3oPMEIu"
      },
      "execution_count": 2,
      "outputs": []
    },
    {
      "cell_type": "markdown",
      "source": [
        "# 단순 선형 회귀"
      ],
      "metadata": {
        "id": "qUOsDxMWGdcS"
      }
    },
    {
      "cell_type": "markdown",
      "source": [
        "- 상관 관계가 전체적인 관련 강도를 측정 하는 것이라면 , 회귀는 관계 자체를 정량화 하는 방법."
      ],
      "metadata": {
        "id": "6qWrN0mHIOU4"
      }
    },
    {
      "cell_type": "markdown",
      "source": [
        "## 회귀식"
      ],
      "metadata": {
        "id": "cXPzMRsuJNtQ"
      }
    },
    {
      "cell_type": "code",
      "source": [
        "  # 4.1.1 예제\n",
        "data_url = 'https://raw.githubusercontent.com/parkmicheal1114/practical-statistics-for-data-scientists/master/data/LungDisease.csv'"
      ],
      "metadata": {
        "id": "KL20MfyBL3ad"
      },
      "execution_count": 3,
      "outputs": []
    },
    {
      "cell_type": "code",
      "execution_count": 4,
      "metadata": {
        "colab": {
          "base_uri": "https://localhost:8080/",
          "height": 206
        },
        "id": "zdWGBv6KEXDU",
        "outputId": "703a65f3-4e13-4701-b38f-46933efc767f"
      },
      "outputs": [
        {
          "output_type": "execute_result",
          "data": {
            "text/plain": [
              "   PEFR  Exposure\n",
              "0   390         0\n",
              "1   410         0\n",
              "2   430         0\n",
              "3   460         0\n",
              "4   420         1"
            ],
            "text/html": [
              "\n",
              "  <div id=\"df-eae4617e-49e7-492f-ac91-1a289eaeddf5\" class=\"colab-df-container\">\n",
              "    <div>\n",
              "<style scoped>\n",
              "    .dataframe tbody tr th:only-of-type {\n",
              "        vertical-align: middle;\n",
              "    }\n",
              "\n",
              "    .dataframe tbody tr th {\n",
              "        vertical-align: top;\n",
              "    }\n",
              "\n",
              "    .dataframe thead th {\n",
              "        text-align: right;\n",
              "    }\n",
              "</style>\n",
              "<table border=\"1\" class=\"dataframe\">\n",
              "  <thead>\n",
              "    <tr style=\"text-align: right;\">\n",
              "      <th></th>\n",
              "      <th>PEFR</th>\n",
              "      <th>Exposure</th>\n",
              "    </tr>\n",
              "  </thead>\n",
              "  <tbody>\n",
              "    <tr>\n",
              "      <th>0</th>\n",
              "      <td>390</td>\n",
              "      <td>0</td>\n",
              "    </tr>\n",
              "    <tr>\n",
              "      <th>1</th>\n",
              "      <td>410</td>\n",
              "      <td>0</td>\n",
              "    </tr>\n",
              "    <tr>\n",
              "      <th>2</th>\n",
              "      <td>430</td>\n",
              "      <td>0</td>\n",
              "    </tr>\n",
              "    <tr>\n",
              "      <th>3</th>\n",
              "      <td>460</td>\n",
              "      <td>0</td>\n",
              "    </tr>\n",
              "    <tr>\n",
              "      <th>4</th>\n",
              "      <td>420</td>\n",
              "      <td>1</td>\n",
              "    </tr>\n",
              "  </tbody>\n",
              "</table>\n",
              "</div>\n",
              "    <div class=\"colab-df-buttons\">\n",
              "\n",
              "  <div class=\"colab-df-container\">\n",
              "    <button class=\"colab-df-convert\" onclick=\"convertToInteractive('df-eae4617e-49e7-492f-ac91-1a289eaeddf5')\"\n",
              "            title=\"Convert this dataframe to an interactive table.\"\n",
              "            style=\"display:none;\">\n",
              "\n",
              "  <svg xmlns=\"http://www.w3.org/2000/svg\" height=\"24px\" viewBox=\"0 -960 960 960\">\n",
              "    <path d=\"M120-120v-720h720v720H120Zm60-500h600v-160H180v160Zm220 220h160v-160H400v160Zm0 220h160v-160H400v160ZM180-400h160v-160H180v160Zm440 0h160v-160H620v160ZM180-180h160v-160H180v160Zm440 0h160v-160H620v160Z\"/>\n",
              "  </svg>\n",
              "    </button>\n",
              "\n",
              "  <style>\n",
              "    .colab-df-container {\n",
              "      display:flex;\n",
              "      gap: 12px;\n",
              "    }\n",
              "\n",
              "    .colab-df-convert {\n",
              "      background-color: #E8F0FE;\n",
              "      border: none;\n",
              "      border-radius: 50%;\n",
              "      cursor: pointer;\n",
              "      display: none;\n",
              "      fill: #1967D2;\n",
              "      height: 32px;\n",
              "      padding: 0 0 0 0;\n",
              "      width: 32px;\n",
              "    }\n",
              "\n",
              "    .colab-df-convert:hover {\n",
              "      background-color: #E2EBFA;\n",
              "      box-shadow: 0px 1px 2px rgba(60, 64, 67, 0.3), 0px 1px 3px 1px rgba(60, 64, 67, 0.15);\n",
              "      fill: #174EA6;\n",
              "    }\n",
              "\n",
              "    .colab-df-buttons div {\n",
              "      margin-bottom: 4px;\n",
              "    }\n",
              "\n",
              "    [theme=dark] .colab-df-convert {\n",
              "      background-color: #3B4455;\n",
              "      fill: #D2E3FC;\n",
              "    }\n",
              "\n",
              "    [theme=dark] .colab-df-convert:hover {\n",
              "      background-color: #434B5C;\n",
              "      box-shadow: 0px 1px 3px 1px rgba(0, 0, 0, 0.15);\n",
              "      filter: drop-shadow(0px 1px 2px rgba(0, 0, 0, 0.3));\n",
              "      fill: #FFFFFF;\n",
              "    }\n",
              "  </style>\n",
              "\n",
              "    <script>\n",
              "      const buttonEl =\n",
              "        document.querySelector('#df-eae4617e-49e7-492f-ac91-1a289eaeddf5 button.colab-df-convert');\n",
              "      buttonEl.style.display =\n",
              "        google.colab.kernel.accessAllowed ? 'block' : 'none';\n",
              "\n",
              "      async function convertToInteractive(key) {\n",
              "        const element = document.querySelector('#df-eae4617e-49e7-492f-ac91-1a289eaeddf5');\n",
              "        const dataTable =\n",
              "          await google.colab.kernel.invokeFunction('convertToInteractive',\n",
              "                                                    [key], {});\n",
              "        if (!dataTable) return;\n",
              "\n",
              "        const docLinkHtml = 'Like what you see? Visit the ' +\n",
              "          '<a target=\"_blank\" href=https://colab.research.google.com/notebooks/data_table.ipynb>data table notebook</a>'\n",
              "          + ' to learn more about interactive tables.';\n",
              "        element.innerHTML = '';\n",
              "        dataTable['output_type'] = 'display_data';\n",
              "        await google.colab.output.renderOutput(dataTable, element);\n",
              "        const docLink = document.createElement('div');\n",
              "        docLink.innerHTML = docLinkHtml;\n",
              "        element.appendChild(docLink);\n",
              "      }\n",
              "    </script>\n",
              "  </div>\n",
              "\n",
              "\n",
              "<div id=\"df-7c1fa26a-fca2-400f-a2b6-7b8e9421e0e8\">\n",
              "  <button class=\"colab-df-quickchart\" onclick=\"quickchart('df-7c1fa26a-fca2-400f-a2b6-7b8e9421e0e8')\"\n",
              "            title=\"Suggest charts\"\n",
              "            style=\"display:none;\">\n",
              "\n",
              "<svg xmlns=\"http://www.w3.org/2000/svg\" height=\"24px\"viewBox=\"0 0 24 24\"\n",
              "     width=\"24px\">\n",
              "    <g>\n",
              "        <path d=\"M19 3H5c-1.1 0-2 .9-2 2v14c0 1.1.9 2 2 2h14c1.1 0 2-.9 2-2V5c0-1.1-.9-2-2-2zM9 17H7v-7h2v7zm4 0h-2V7h2v10zm4 0h-2v-4h2v4z\"/>\n",
              "    </g>\n",
              "</svg>\n",
              "  </button>\n",
              "\n",
              "<style>\n",
              "  .colab-df-quickchart {\n",
              "      --bg-color: #E8F0FE;\n",
              "      --fill-color: #1967D2;\n",
              "      --hover-bg-color: #E2EBFA;\n",
              "      --hover-fill-color: #174EA6;\n",
              "      --disabled-fill-color: #AAA;\n",
              "      --disabled-bg-color: #DDD;\n",
              "  }\n",
              "\n",
              "  [theme=dark] .colab-df-quickchart {\n",
              "      --bg-color: #3B4455;\n",
              "      --fill-color: #D2E3FC;\n",
              "      --hover-bg-color: #434B5C;\n",
              "      --hover-fill-color: #FFFFFF;\n",
              "      --disabled-bg-color: #3B4455;\n",
              "      --disabled-fill-color: #666;\n",
              "  }\n",
              "\n",
              "  .colab-df-quickchart {\n",
              "    background-color: var(--bg-color);\n",
              "    border: none;\n",
              "    border-radius: 50%;\n",
              "    cursor: pointer;\n",
              "    display: none;\n",
              "    fill: var(--fill-color);\n",
              "    height: 32px;\n",
              "    padding: 0;\n",
              "    width: 32px;\n",
              "  }\n",
              "\n",
              "  .colab-df-quickchart:hover {\n",
              "    background-color: var(--hover-bg-color);\n",
              "    box-shadow: 0 1px 2px rgba(60, 64, 67, 0.3), 0 1px 3px 1px rgba(60, 64, 67, 0.15);\n",
              "    fill: var(--button-hover-fill-color);\n",
              "  }\n",
              "\n",
              "  .colab-df-quickchart-complete:disabled,\n",
              "  .colab-df-quickchart-complete:disabled:hover {\n",
              "    background-color: var(--disabled-bg-color);\n",
              "    fill: var(--disabled-fill-color);\n",
              "    box-shadow: none;\n",
              "  }\n",
              "\n",
              "  .colab-df-spinner {\n",
              "    border: 2px solid var(--fill-color);\n",
              "    border-color: transparent;\n",
              "    border-bottom-color: var(--fill-color);\n",
              "    animation:\n",
              "      spin 1s steps(1) infinite;\n",
              "  }\n",
              "\n",
              "  @keyframes spin {\n",
              "    0% {\n",
              "      border-color: transparent;\n",
              "      border-bottom-color: var(--fill-color);\n",
              "      border-left-color: var(--fill-color);\n",
              "    }\n",
              "    20% {\n",
              "      border-color: transparent;\n",
              "      border-left-color: var(--fill-color);\n",
              "      border-top-color: var(--fill-color);\n",
              "    }\n",
              "    30% {\n",
              "      border-color: transparent;\n",
              "      border-left-color: var(--fill-color);\n",
              "      border-top-color: var(--fill-color);\n",
              "      border-right-color: var(--fill-color);\n",
              "    }\n",
              "    40% {\n",
              "      border-color: transparent;\n",
              "      border-right-color: var(--fill-color);\n",
              "      border-top-color: var(--fill-color);\n",
              "    }\n",
              "    60% {\n",
              "      border-color: transparent;\n",
              "      border-right-color: var(--fill-color);\n",
              "    }\n",
              "    80% {\n",
              "      border-color: transparent;\n",
              "      border-right-color: var(--fill-color);\n",
              "      border-bottom-color: var(--fill-color);\n",
              "    }\n",
              "    90% {\n",
              "      border-color: transparent;\n",
              "      border-bottom-color: var(--fill-color);\n",
              "    }\n",
              "  }\n",
              "</style>\n",
              "\n",
              "  <script>\n",
              "    async function quickchart(key) {\n",
              "      const quickchartButtonEl =\n",
              "        document.querySelector('#' + key + ' button');\n",
              "      quickchartButtonEl.disabled = true;  // To prevent multiple clicks.\n",
              "      quickchartButtonEl.classList.add('colab-df-spinner');\n",
              "      try {\n",
              "        const charts = await google.colab.kernel.invokeFunction(\n",
              "            'suggestCharts', [key], {});\n",
              "      } catch (error) {\n",
              "        console.error('Error during call to suggestCharts:', error);\n",
              "      }\n",
              "      quickchartButtonEl.classList.remove('colab-df-spinner');\n",
              "      quickchartButtonEl.classList.add('colab-df-quickchart-complete');\n",
              "    }\n",
              "    (() => {\n",
              "      let quickchartButtonEl =\n",
              "        document.querySelector('#df-7c1fa26a-fca2-400f-a2b6-7b8e9421e0e8 button');\n",
              "      quickchartButtonEl.style.display =\n",
              "        google.colab.kernel.accessAllowed ? 'block' : 'none';\n",
              "    })();\n",
              "  </script>\n",
              "</div>\n",
              "\n",
              "    </div>\n",
              "  </div>\n"
            ],
            "application/vnd.google.colaboratory.intrinsic+json": {
              "type": "dataframe",
              "variable_name": "df",
              "summary": "{\n  \"name\": \"df\",\n  \"rows\": 122,\n  \"fields\": [\n    {\n      \"column\": \"PEFR\",\n      \"properties\": {\n        \"dtype\": \"number\",\n        \"std\": 105,\n        \"min\": 110,\n        \"max\": 610,\n        \"num_unique_values\": 41,\n        \"samples\": [\n          220,\n          450,\n          590\n        ],\n        \"semantic_type\": \"\",\n        \"description\": \"\"\n      }\n    },\n    {\n      \"column\": \"Exposure\",\n      \"properties\": {\n        \"dtype\": \"number\",\n        \"std\": 6,\n        \"min\": 0,\n        \"max\": 23,\n        \"num_unique_values\": 23,\n        \"samples\": [\n          16,\n          9,\n          0\n        ],\n        \"semantic_type\": \"\",\n        \"description\": \"\"\n      }\n    }\n  ]\n}"
            }
          },
          "metadata": {},
          "execution_count": 4
        }
      ],
      "source": [
        "# Data Load\n",
        "df = pd.read_csv(data_url)\n",
        "df.head()"
      ]
    },
    {
      "cell_type": "code",
      "source": [
        "# 사이킷런 Linear Regression\n",
        "from sklearn.linear_model import LinearRegression\n",
        "\n",
        "feature = df[['Exposure']]\n",
        "target = df[['PEFR']]\n",
        "\n",
        "lr_reg = LinearRegression()\n",
        "lr_reg.fit(feature , target)\n",
        "\n",
        "print('Intercept : ' , lr_reg.intercept_)\n",
        "print('Coef. : ' , lr_reg.coef_[0] )"
      ],
      "metadata": {
        "colab": {
          "base_uri": "https://localhost:8080/"
        },
        "id": "sVFMg9L-MwVa",
        "outputId": "8d6b63fe-10b0-42bd-994d-465b30047e94"
      },
      "execution_count": 5,
      "outputs": [
        {
          "output_type": "stream",
          "name": "stdout",
          "text": [
            "Intercept :  [424.58280657]\n",
            "Coef. :  [-4.18457649]\n"
          ]
        }
      ]
    },
    {
      "cell_type": "code",
      "source": [
        "# 단순 선형 회귀식\n",
        "y = lr_reg.intercept_ + df['Exposure'] * lr_reg.coef_[0]"
      ],
      "metadata": {
        "id": "p6dyy2ryS4tG"
      },
      "execution_count": 6,
      "outputs": []
    },
    {
      "cell_type": "code",
      "source": [
        "import matplotlib.pyplot as plt\n",
        "\n",
        "fig, ax = plt.subplots(figsize=(4, 4))\n",
        "ax.set_xlim(0, 23)\n",
        "ax.set_ylim(295, 450)\n",
        "ax.set_xlabel('Exposure')\n",
        "ax.set_ylabel('PEFR')\n",
        "ax.plot((0, 23), lr_reg.predict(pd.DataFrame({'Exposure': [0, 23]})))\n",
        "ax.text(0.4, lr_reg.intercept_, r'$b_0$', size='larger')\n",
        "\n",
        "x = pd.DataFrame({'Exposure': [7.5,17.5]})\n",
        "y = lr_reg.predict(x)\n",
        "ax.plot((7.5, 7.5, 17.5), (y[0], y[1], y[1]), '--')\n",
        "ax.text(5, np.mean(y), r'$\\Delta Y$', size='larger')\n",
        "ax.text(12, y[1] - 10, r'$\\Delta X$', size='larger')\n",
        "ax.text(12, 390, r'$b_1 = \\frac{\\Delta Y}{\\Delta X}$', size='larger')\n",
        "\n",
        "plt.tight_layout()\n",
        "plt.show()"
      ],
      "metadata": {
        "colab": {
          "base_uri": "https://localhost:8080/",
          "height": 407
        },
        "id": "MiH6_-_hacgY",
        "outputId": "abf32250-ff0a-4dc5-84ce-9aaa1e8b9ed9"
      },
      "execution_count": 7,
      "outputs": [
        {
          "output_type": "display_data",
          "data": {
            "text/plain": [
              "<Figure size 400x400 with 1 Axes>"
            ],
            "image/png": "[encoded data removed]"
          },
          "metadata": {}
        }
      ]
    },
    {
      "cell_type": "markdown",
      "source": [
        "- 두 변수는 감소 하는 방향으로 기울기가 생성 되어있기 때문에 , x가 감소 하는 만큼 y값이 감소 하는 비율이 기울기가 된다. 반대 모양이라면 반대로 해석 하면 됨.."
      ],
      "metadata": {
        "id": "Cc3oXV7Fbzhk"
      }
    },
    {
      "cell_type": "markdown",
      "source": [
        "- 주의\n",
        " - 사이킷런의 LInearRegression은 SVD 알고리즘을 사용 한다.( 핸즈온머신러닝 4장 참조 )\n",
        " - 통계적 기법인 OLS를 활용 하기 위해서는 Statsmodel의 OLS 로 모델을 훈련 시켜야 한다."
      ],
      "metadata": {
        "id": "w9o0MrvSRclJ"
      }
    },
    {
      "cell_type": "markdown",
      "source": [
        "## 예측값과 잔차"
      ],
      "metadata": {
        "id": "FgZwpa5YcU_v"
      }
    },
    {
      "cell_type": "markdown",
      "source": [
        " - 잔차 : 당연한 얘기 겠지만 , 모든 데이터가 정확히 회귀선을 따르지 않는다.이때 예측값과 관측값의 차이를 잔차(residual) 이라고 한다.\n",
        " - 회귀식에서는 오차항을 포함한다.\n",
        "\n"
      ],
      "metadata": {
        "id": "SS6m5_lFcaMv"
      }
    },
    {
      "cell_type": "code",
      "source": [
        "pred = lr_reg.predict(feature)\n",
        "res = target - pred\n",
        "\n",
        "# 잔차에 대한 시각화\n",
        "ax = df.plot.scatter(x='Exposure', y='PEFR', figsize=(4, 4))\n",
        "ax.plot(df.Exposure, pred)\n",
        "for x, yactual, yfitted in zip(df.Exposure, df.PEFR, pred.ravel()):\n",
        "    ax.plot((x, x), (yactual, yfitted), '--', color='C1')\n",
        "\n",
        "plt.tight_layout()\n",
        "plt.show()"
      ],
      "metadata": {
        "colab": {
          "base_uri": "https://localhost:8080/",
          "height": 407
        },
        "id": "YYJBh7K-dEnu",
        "outputId": "9471846d-09bb-4a9f-c0ff-7dbe646b37de"
      },
      "execution_count": 8,
      "outputs": [
        {
          "output_type": "display_data",
          "data": {
            "text/plain": [
              "<Figure size 400x400 with 1 Axes>"
            ],
            "image/png": "[encoded data removed]"
          },
          "metadata": {}
        }
      ]
    },
    {
      "cell_type": "markdown",
      "source": [
        "## 최소제곱"
      ],
      "metadata": {
        "id": "lgFiu2NueTp5"
      }
    },
    {
      "cell_type": "markdown",
      "source": [
        "- 회귀선 => 잔차들의 제곱한 값들의 합(RSS)을 최소화 하는 선을 의미 한다\n",
        "\n",
        "- 이렇게 RSS 를 최소화 하는 회귀 방법을 OLS 라고 한다.\n",
        "\n",
        "- OLS 의 장점은 속도에 있지만 , 단점으로는 이상치에 민감하다. 이는 평균을 기대값으로 사용 하고 있기 때문이다."
      ],
      "metadata": {
        "id": "Bz5nSp04eXl5"
      }
    },
    {
      "cell_type": "markdown",
      "source": [
        "## 예측 대 설명\n",
        "\n",
        " - 전통적으로 회귀는 데이터 간의 관계를 이해 하고 그것을 설명 하는데 목적을 둔다.\n",
        " - 즉 회귀 기울기를 추정 함으로써 , 변수간의 상관관계를 이해 하고 , 설명하는데 초점이 있었음.\n",
        "\n",
        " - 빅데이터로 넘어오면서 설명 보다는 예측 모델을 구성 하는데 무게가 실리고 있음.\n",
        "\n",
        " - 끝으로 회귀 방정식이 인과관계를 정확히 증명하는 것이 아님을 알고 인식 해야 함."
      ],
      "metadata": {
        "id": "Rj_JKd9dfkaV"
      }
    },
    {
      "cell_type": "markdown",
      "source": [
        "## keyword\n",
        " - 절편 : 변수 X의 크기가 0 일때 예측값\n",
        " - 회귀계수 : 회귀선의 기울기 ( 유의어 : 모수추정값 , 가중치)\n",
        " - 잔차 : 관측값과 예측값의 차이\n",
        " - 최소제곱 : 잔차의 제곱값을 최소화 하는 방향으로 회귀 모델을 훈련 하는 방법 (OLS)\n"
      ],
      "metadata": {
        "id": "jtDkvc2XIYMc"
      }
    },
    {
      "cell_type": "markdown",
      "source": [
        "# 다중 선형 회귀\n",
        "\n",
        " $ Y = b_0 + b_1X +b_2X + ... + e $\n",
        "\n",
        "- 단순 회귀 와는 달리 여러 feature 들로 구성 된다.\n"
      ],
      "metadata": {
        "id": "xSPZWmdshyaP"
      }
    },
    {
      "cell_type": "markdown",
      "source": [
        "## 예제.."
      ],
      "metadata": {
        "id": "VzwbCJbvj7UV"
      }
    },
    {
      "cell_type": "code",
      "source": [
        "# 킹카운티예제\n",
        "house = pd.read_csv('https://raw.githubusercontent.com/parkmicheal1114/practical-statistics-for-data-scientists/master/data/house_sales.csv' , sep = '\\t')\n",
        "house.head()"
      ],
      "metadata": {
        "id": "LNS5CajLj_Cw",
        "colab": {
          "base_uri": "https://localhost:8080/",
          "height": 342
        },
        "outputId": "d9ca561e-6f74-415e-b636-44d69c8ad646"
      },
      "execution_count": 9,
      "outputs": [
        {
          "output_type": "execute_result",
          "data": {
            "text/plain": [
              "  DocumentDate  SalePrice  PropertyID   PropertyType          ym  zhvi_px  \\\n",
              "1   2014-09-16     280000     1000102      Multiplex  2014-09-01   405100   \n",
              "2   2006-06-16    1000000     1200013  Single Family  2006-06-01   404400   \n",
              "3   2007-01-29     745000     1200019  Single Family  2007-01-01   425600   \n",
              "4   2008-02-25     425000     2800016  Single Family  2008-02-01   418400   \n",
              "5   2013-03-29     240000     2800024  Single Family  2013-03-01   351600   \n",
              "\n",
              "   zhvi_idx  AdjSalePrice  NbrLivingUnits  SqFtLot  ...  Bathrooms  Bedrooms  \\\n",
              "1  0.930836      300805.0               2     9373  ...       3.00         6   \n",
              "2  0.929228     1076162.0               1    20156  ...       3.75         4   \n",
              "3  0.977941      761805.0               1    26036  ...       1.75         4   \n",
              "4  0.961397      442065.0               1     8618  ...       3.75         5   \n",
              "5  0.807904      297065.0               1     8620  ...       1.75         4   \n",
              "\n",
              "   BldgGrade  YrBuilt  YrRenovated  TrafficNoise  LandVal  ImpsVal  ZipCode  \\\n",
              "1          7     1991            0             0    70000   229000    98002   \n",
              "2         10     2005            0             0   203000   590000    98166   \n",
              "3          8     1947            0             0   183000   275000    98166   \n",
              "4          7     1966            0             0   104000   229000    98168   \n",
              "5          7     1948            0             0   104000   205000    98168   \n",
              "\n",
              "   NewConstruction  \n",
              "1            False  \n",
              "2             True  \n",
              "3            False  \n",
              "4            False  \n",
              "5            False  \n",
              "\n",
              "[5 rows x 22 columns]"
            ],
            "text/html": [
              "\n",
              "  <div id=\"df-64ff2e99-a7c5-4ead-8723-8d27079d6196\" class=\"colab-df-container\">\n",
              "    <div>\n",
              "<style scoped>\n",
              "    .dataframe tbody tr th:only-of-type {\n",
              "        vertical-align: middle;\n",
              "    }\n",
              "\n",
              "    .dataframe tbody tr th {\n",
              "        vertical-align: top;\n",
              "    }\n",
              "\n",
              "    .dataframe thead th {\n",
              "        text-align: right;\n",
              "    }\n",
              "</style>\n",
              "<table border=\"1\" class=\"dataframe\">\n",
              "  <thead>\n",
              "    <tr style=\"text-align: right;\">\n",
              "      <th></th>\n",
              "      <th>DocumentDate</th>\n",
              "      <th>SalePrice</th>\n",
              "      <th>PropertyID</th>\n",
              "      <th>PropertyType</th>\n",
              "      <th>ym</th>\n",
              "      <th>zhvi_px</th>\n",
              "      <th>zhvi_idx</th>\n",
              "      <th>AdjSalePrice</th>\n",
              "      <th>NbrLivingUnits</th>\n",
              "      <th>SqFtLot</th>\n",
              "      <th>...</th>\n",
              "      <th>Bathrooms</th>\n",
              "      <th>Bedrooms</th>\n",
              "      <th>BldgGrade</th>\n",
              "      <th>YrBuilt</th>\n",
              "      <th>YrRenovated</th>\n",
              "      <th>TrafficNoise</th>\n",
              "      <th>LandVal</th>\n",
              "      <th>ImpsVal</th>\n",
              "      <th>ZipCode</th>\n",
              "      <th>NewConstruction</th>\n",
              "    </tr>\n",
              "  </thead>\n",
              "  <tbody>\n",
              "    <tr>\n",
              "      <th>1</th>\n",
              "      <td>2014-09-16</td>\n",
              "      <td>280000</td>\n",
              "      <td>1000102</td>\n",
              "      <td>Multiplex</td>\n",
              "      <td>2014-09-01</td>\n",
              "      <td>405100</td>\n",
              "      <td>0.930836</td>\n",
              "      <td>300805.0</td>\n",
              "      <td>2</td>\n",
              "      <td>9373</td>\n",
              "      <td>...</td>\n",
              "      <td>3.00</td>\n",
              "      <td>6</td>\n",
              "      <td>7</td>\n",
              "      <td>1991</td>\n",
              "      <td>0</td>\n",
              "      <td>0</td>\n",
              "      <td>70000</td>\n",
              "      <td>229000</td>\n",
              "      <td>98002</td>\n",
              "      <td>False</td>\n",
              "    </tr>\n",
              "    <tr>\n",
              "      <th>2</th>\n",
              "      <td>2006-06-16</td>\n",
              "      <td>1000000</td>\n",
              "      <td>1200013</td>\n",
              "      <td>Single Family</td>\n",
              "      <td>2006-06-01</td>\n",
              "      <td>404400</td>\n",
              "      <td>0.929228</td>\n",
              "      <td>1076162.0</td>\n",
              "      <td>1</td>\n",
              "      <td>20156</td>\n",
              "      <td>...</td>\n",
              "      <td>3.75</td>\n",
              "      <td>4</td>\n",
              "      <td>10</td>\n",
              "      <td>2005</td>\n",
              "      <td>0</td>\n",
              "      <td>0</td>\n",
              "      <td>203000</td>\n",
              "      <td>590000</td>\n",
              "      <td>98166</td>\n",
              "      <td>True</td>\n",
              "    </tr>\n",
              "    <tr>\n",
              "      <th>3</th>\n",
              "      <td>2007-01-29</td>\n",
              "      <td>745000</td>\n",
              "      <td>1200019</td>\n",
              "      <td>Single Family</td>\n",
              "      <td>2007-01-01</td>\n",
              "      <td>425600</td>\n",
              "      <td>0.977941</td>\n",
              "      <td>761805.0</td>\n",
              "      <td>1</td>\n",
              "      <td>26036</td>\n",
              "      <td>...</td>\n",
              "      <td>1.75</td>\n",
              "      <td>4</td>\n",
              "      <td>8</td>\n",
              "      <td>1947</td>\n",
              "      <td>0</td>\n",
              "      <td>0</td>\n",
              "      <td>183000</td>\n",
              "      <td>275000</td>\n",
              "      <td>98166</td>\n",
              "      <td>False</td>\n",
              "    </tr>\n",
              "    <tr>\n",
              "      <th>4</th>\n",
              "      <td>2008-02-25</td>\n",
              "      <td>425000</td>\n",
              "      <td>2800016</td>\n",
              "      <td>Single Family</td>\n",
              "      <td>2008-02-01</td>\n",
              "      <td>418400</td>\n",
              "      <td>0.961397</td>\n",
              "      <td>442065.0</td>\n",
              "      <td>1</td>\n",
              "      <td>8618</td>\n",
              "      <td>...</td>\n",
              "      <td>3.75</td>\n",
              "      <td>5</td>\n",
              "      <td>7</td>\n",
              "      <td>1966</td>\n",
              "      <td>0</td>\n",
              "      <td>0</td>\n",
              "      <td>104000</td>\n",
              "      <td>229000</td>\n",
              "      <td>98168</td>\n",
              "      <td>False</td>\n",
              "    </tr>\n",
              "    <tr>\n",
              "      <th>5</th>\n",
              "      <td>2013-03-29</td>\n",
              "      <td>240000</td>\n",
              "      <td>2800024</td>\n",
              "      <td>Single Family</td>\n",
              "      <td>2013-03-01</td>\n",
              "      <td>351600</td>\n",
              "      <td>0.807904</td>\n",
              "      <td>297065.0</td>\n",
              "      <td>1</td>\n",
              "      <td>8620</td>\n",
              "      <td>...</td>\n",
              "      <td>1.75</td>\n",
              "      <td>4</td>\n",
              "      <td>7</td>\n",
              "      <td>1948</td>\n",
              "      <td>0</td>\n",
              "      <td>0</td>\n",
              "      <td>104000</td>\n",
              "      <td>205000</td>\n",
              "      <td>98168</td>\n",
              "      <td>False</td>\n",
              "    </tr>\n",
              "  </tbody>\n",
              "</table>\n",
              "<p>5 rows × 22 columns</p>\n",
              "</div>\n",
              "    <div class=\"colab-df-buttons\">\n",
              "\n",
              "  <div class=\"colab-df-container\">\n",
              "    <button class=\"colab-df-convert\" onclick=\"convertToInteractive('df-64ff2e99-a7c5-4ead-8723-8d27079d6196')\"\n",
              "            title=\"Convert this dataframe to an interactive table.\"\n",
              "            style=\"display:none;\">\n",
              "\n",
              "  <svg xmlns=\"http://www.w3.org/2000/svg\" height=\"24px\" viewBox=\"0 -960 960 960\">\n",
              "    <path d=\"M120-120v-720h720v720H120Zm60-500h600v-160H180v160Zm220 220h160v-160H400v160Zm0 220h160v-160H400v160ZM180-400h160v-160H180v160Zm440 0h160v-160H620v160ZM180-180h160v-160H180v160Zm440 0h160v-160H620v160Z\"/>\n",
              "  </svg>\n",
              "    </button>\n",
              "\n",
              "  <style>\n",
              "    .colab-df-container {\n",
              "      display:flex;\n",
              "      gap: 12px;\n",
              "    }\n",
              "\n",
              "    .colab-df-convert {\n",
              "      background-color: #E8F0FE;\n",
              "      border: none;\n",
              "      border-radius: 50%;\n",
              "      cursor: pointer;\n",
              "      display: none;\n",
              "      fill: #1967D2;\n",
              "      height: 32px;\n",
              "      padding: 0 0 0 0;\n",
              "      width: 32px;\n",
              "    }\n",
              "\n",
              "    .colab-df-convert:hover {\n",
              "      background-color: #E2EBFA;\n",
              "      box-shadow: 0px 1px 2px rgba(60, 64, 67, 0.3), 0px 1px 3px 1px rgba(60, 64, 67, 0.15);\n",
              "      fill: #174EA6;\n",
              "    }\n",
              "\n",
              "    .colab-df-buttons div {\n",
              "      margin-bottom: 4px;\n",
              "    }\n",
              "\n",
              "    [theme=dark] .colab-df-convert {\n",
              "      background-color: #3B4455;\n",
              "      fill: #D2E3FC;\n",
              "    }\n",
              "\n",
              "    [theme=dark] .colab-df-convert:hover {\n",
              "      background-color: #434B5C;\n",
              "      box-shadow: 0px 1px 3px 1px rgba(0, 0, 0, 0.15);\n",
              "      filter: drop-shadow(0px 1px 2px rgba(0, 0, 0, 0.3));\n",
              "      fill: #FFFFFF;\n",
              "    }\n",
              "  </style>\n",
              "\n",
              "    <script>\n",
              "      const buttonEl =\n",
              "        document.querySelector('#df-64ff2e99-a7c5-4ead-8723-8d27079d6196 button.colab-df-convert');\n",
              "      buttonEl.style.display =\n",
              "        google.colab.kernel.accessAllowed ? 'block' : 'none';\n",
              "\n",
              "      async function convertToInteractive(key) {\n",
              "        const element = document.querySelector('#df-64ff2e99-a7c5-4ead-8723-8d27079d6196');\n",
              "        const dataTable =\n",
              "          await google.colab.kernel.invokeFunction('convertToInteractive',\n",
              "                                                    [key], {});\n",
              "        if (!dataTable) return;\n",
              "\n",
              "        const docLinkHtml = 'Like what you see? Visit the ' +\n",
              "          '<a target=\"_blank\" href=https://colab.research.google.com/notebooks/data_table.ipynb>data table notebook</a>'\n",
              "          + ' to learn more about interactive tables.';\n",
              "        element.innerHTML = '';\n",
              "        dataTable['output_type'] = 'display_data';\n",
              "        await google.colab.output.renderOutput(dataTable, element);\n",
              "        const docLink = document.createElement('div');\n",
              "        docLink.innerHTML = docLinkHtml;\n",
              "        element.appendChild(docLink);\n",
              "      }\n",
              "    </script>\n",
              "  </div>\n",
              "\n",
              "\n",
              "<div id=\"df-7c23e27e-932b-475a-9d59-e5f178c460bc\">\n",
              "  <button class=\"colab-df-quickchart\" onclick=\"quickchart('df-7c23e27e-932b-475a-9d59-e5f178c460bc')\"\n",
              "            title=\"Suggest charts\"\n",
              "            style=\"display:none;\">\n",
              "\n",
              "<svg xmlns=\"http://www.w3.org/2000/svg\" height=\"24px\"viewBox=\"0 0 24 24\"\n",
              "     width=\"24px\">\n",
              "    <g>\n",
              "        <path d=\"M19 3H5c-1.1 0-2 .9-2 2v14c0 1.1.9 2 2 2h14c1.1 0 2-.9 2-2V5c0-1.1-.9-2-2-2zM9 17H7v-7h2v7zm4 0h-2V7h2v10zm4 0h-2v-4h2v4z\"/>\n",
              "    </g>\n",
              "</svg>\n",
              "  </button>\n",
              "\n",
              "<style>\n",
              "  .colab-df-quickchart {\n",
              "      --bg-color: #E8F0FE;\n",
              "      --fill-color: #1967D2;\n",
              "      --hover-bg-color: #E2EBFA;\n",
              "      --hover-fill-color: #174EA6;\n",
              "      --disabled-fill-color: #AAA;\n",
              "      --disabled-bg-color: #DDD;\n",
              "  }\n",
              "\n",
              "  [theme=dark] .colab-df-quickchart {\n",
              "      --bg-color: #3B4455;\n",
              "      --fill-color: #D2E3FC;\n",
              "      --hover-bg-color: #434B5C;\n",
              "      --hover-fill-color: #FFFFFF;\n",
              "      --disabled-bg-color: #3B4455;\n",
              "      --disabled-fill-color: #666;\n",
              "  }\n",
              "\n",
              "  .colab-df-quickchart {\n",
              "    background-color: var(--bg-color);\n",
              "    border: none;\n",
              "    border-radius: 50%;\n",
              "    cursor: pointer;\n",
              "    display: none;\n",
              "    fill: var(--fill-color);\n",
              "    height: 32px;\n",
              "    padding: 0;\n",
              "    width: 32px;\n",
              "  }\n",
              "\n",
              "  .colab-df-quickchart:hover {\n",
              "    background-color: var(--hover-bg-color);\n",
              "    box-shadow: 0 1px 2px rgba(60, 64, 67, 0.3), 0 1px 3px 1px rgba(60, 64, 67, 0.15);\n",
              "    fill: var(--button-hover-fill-color);\n",
              "  }\n",
              "\n",
              "  .colab-df-quickchart-complete:disabled,\n",
              "  .colab-df-quickchart-complete:disabled:hover {\n",
              "    background-color: var(--disabled-bg-color);\n",
              "    fill: var(--disabled-fill-color);\n",
              "    box-shadow: none;\n",
              "  }\n",
              "\n",
              "  .colab-df-spinner {\n",
              "    border: 2px solid var(--fill-color);\n",
              "    border-color: transparent;\n",
              "    border-bottom-color: var(--fill-color);\n",
              "    animation:\n",
              "      spin 1s steps(1) infinite;\n",
              "  }\n",
              "\n",
              "  @keyframes spin {\n",
              "    0% {\n",
              "      border-color: transparent;\n",
              "      border-bottom-color: var(--fill-color);\n",
              "      border-left-color: var(--fill-color);\n",
              "    }\n",
              "    20% {\n",
              "      border-color: transparent;\n",
              "      border-left-color: var(--fill-color);\n",
              "      border-top-color: var(--fill-color);\n",
              "    }\n",
              "    30% {\n",
              "      border-color: transparent;\n",
              "      border-left-color: var(--fill-color);\n",
              "      border-top-color: var(--fill-color);\n",
              "      border-right-color: var(--fill-color);\n",
              "    }\n",
              "    40% {\n",
              "      border-color: transparent;\n",
              "      border-right-color: var(--fill-color);\n",
              "      border-top-color: var(--fill-color);\n",
              "    }\n",
              "    60% {\n",
              "      border-color: transparent;\n",
              "      border-right-color: var(--fill-color);\n",
              "    }\n",
              "    80% {\n",
              "      border-color: transparent;\n",
              "      border-right-color: var(--fill-color);\n",
              "      border-bottom-color: var(--fill-color);\n",
              "    }\n",
              "    90% {\n",
              "      border-color: transparent;\n",
              "      border-bottom-color: var(--fill-color);\n",
              "    }\n",
              "  }\n",
              "</style>\n",
              "\n",
              "  <script>\n",
              "    async function quickchart(key) {\n",
              "      const quickchartButtonEl =\n",
              "        document.querySelector('#' + key + ' button');\n",
              "      quickchartButtonEl.disabled = true;  // To prevent multiple clicks.\n",
              "      quickchartButtonEl.classList.add('colab-df-spinner');\n",
              "      try {\n",
              "        const charts = await google.colab.kernel.invokeFunction(\n",
              "            'suggestCharts', [key], {});\n",
              "      } catch (error) {\n",
              "        console.error('Error during call to suggestCharts:', error);\n",
              "      }\n",
              "      quickchartButtonEl.classList.remove('colab-df-spinner');\n",
              "      quickchartButtonEl.classList.add('colab-df-quickchart-complete');\n",
              "    }\n",
              "    (() => {\n",
              "      let quickchartButtonEl =\n",
              "        document.querySelector('#df-7c23e27e-932b-475a-9d59-e5f178c460bc button');\n",
              "      quickchartButtonEl.style.display =\n",
              "        google.colab.kernel.accessAllowed ? 'block' : 'none';\n",
              "    })();\n",
              "  </script>\n",
              "</div>\n",
              "\n",
              "    </div>\n",
              "  </div>\n"
            ],
            "application/vnd.google.colaboratory.intrinsic+json": {
              "type": "dataframe",
              "variable_name": "house"
            }
          },
          "metadata": {},
          "execution_count": 9
        }
      ]
    },
    {
      "cell_type": "code",
      "source": [
        "feature = house[['SqFtTotLiving', 'SqFtLot', 'Bathrooms',\n",
        "              'Bedrooms', 'BldgGrade']]\n",
        "target = house['AdjSalePrice']\n",
        "\n",
        "lr_reg = LinearRegression()\n",
        "lr_reg.fit(feature , target)\n",
        "\n",
        "print('Intercept : ' , lr_reg.intercept_)\n",
        "print('Coef ')\n",
        "for name , coef in zip(feature.columns , lr_reg.coef_):\n",
        "  print(f'{name} : {coef : .4f}')"
      ],
      "metadata": {
        "colab": {
          "base_uri": "https://localhost:8080/"
        },
        "id": "dn9N5za8w2gw",
        "outputId": "819fb773-bc8b-43a4-fa5d-be6f99cda06d"
      },
      "execution_count": 10,
      "outputs": [
        {
          "output_type": "stream",
          "name": "stdout",
          "text": [
            "Intercept :  -521871.36818828376\n",
            "Coef \n",
            "SqFtTotLiving :  228.8306\n",
            "SqFtLot : -0.0605\n",
            "Bathrooms : -19442.8404\n",
            "Bedrooms : -47769.9552\n",
            "BldgGrade :  106106.9631\n"
          ]
        }
      ]
    },
    {
      "cell_type": "markdown",
      "source": [
        "- 회귀 계수에 대한 설명\n",
        " - 다른 모든 변수를 고정 시킨다고 가정 했을 때 , SqFtTotLiving 이 1 만큼 커지면 , 주택 가격은 228$ 상승 한다고 얘기 할 수 있다.\n",
        " - 이런 이유로 선형 회귀 에서는 데이터 스케일링이 거의 반드시 동반 되어야 한다."
      ],
      "metadata": {
        "id": "6hSC6GxKyde5"
      }
    },
    {
      "cell_type": "code",
      "source": [],
      "metadata": {
        "id": "MK8VuA0joQKW"
      },
      "execution_count": 10,
      "outputs": []
    },
    {
      "cell_type": "code",
      "source": [
        "ols_model = sm.OLS(target , sm.add_constant(feature) ).fit()\n",
        "ols_model.summary()"
      ],
      "metadata": {
        "colab": {
          "base_uri": "https://localhost:8080/",
          "height": 559
        },
        "id": "LI9QFygbxYtN",
        "outputId": "81eabc2d-78f4-4458-f6fa-274c018db990"
      },
      "execution_count": 11,
      "outputs": [
        {
          "output_type": "execute_result",
          "data": {
            "text/plain": [
              "<class 'statsmodels.iolib.summary.Summary'>\n",
              "\"\"\"\n",
              "                            OLS Regression Results                            \n",
              "==============================================================================\n",
              "Dep. Variable:           AdjSalePrice   R-squared:                       0.541\n",
              "Model:                            OLS   Adj. R-squared:                  0.540\n",
              "Method:                 Least Squares   F-statistic:                     5338.\n",
              "Date:                Mon, 29 Jul 2024   Prob (F-statistic):               0.00\n",
              "Time:                        00:34:55   Log-Likelihood:            -3.1517e+05\n",
              "No. Observations:               22687   AIC:                         6.304e+05\n",
              "Df Residuals:                   22681   BIC:                         6.304e+05\n",
              "Df Model:                           5                                         \n",
              "Covariance Type:            nonrobust                                         \n",
              "=================================================================================\n",
              "                    coef    std err          t      P>|t|      [0.025      0.975]\n",
              "---------------------------------------------------------------------------------\n",
              "const         -5.219e+05   1.57e+04    -33.342      0.000   -5.53e+05   -4.91e+05\n",
              "SqFtTotLiving   228.8306      3.899     58.694      0.000     221.189     236.472\n",
              "SqFtLot          -0.0605      0.061     -0.988      0.323      -0.180       0.059\n",
              "Bathrooms     -1.944e+04   3625.388     -5.363      0.000   -2.65e+04   -1.23e+04\n",
              "Bedrooms      -4.777e+04   2489.732    -19.187      0.000   -5.27e+04   -4.29e+04\n",
              "BldgGrade      1.061e+05   2396.445     44.277      0.000    1.01e+05    1.11e+05\n",
              "==============================================================================\n",
              "Omnibus:                    29676.557   Durbin-Watson:                   1.247\n",
              "Prob(Omnibus):                  0.000   Jarque-Bera (JB):         19390738.346\n",
              "Skew:                           6.889   Prob(JB):                         0.00\n",
              "Kurtosis:                     145.559   Cond. No.                     2.86e+05\n",
              "==============================================================================\n",
              "\n",
              "Notes:\n",
              "[1] Standard Errors assume that the covariance matrix of the errors is correctly specified.\n",
              "[2] The condition number is large, 2.86e+05. This might indicate that there are\n",
              "strong multicollinearity or other numerical problems.\n",
              "\"\"\""
            ],
            "text/html": [
              "<table class=\"simpletable\">\n",
              "<caption>OLS Regression Results</caption>\n",
              "<tr>\n",
              "  <th>Dep. Variable:</th>      <td>AdjSalePrice</td>   <th>  R-squared:         </th>  <td>   0.541</td>  \n",
              "</tr>\n",
              "<tr>\n",
              "  <th>Model:</th>                   <td>OLS</td>       <th>  Adj. R-squared:    </th>  <td>   0.540</td>  \n",
              "</tr>\n",
              "<tr>\n",
              "  <th>Method:</th>             <td>Least Squares</td>  <th>  F-statistic:       </th>  <td>   5338.</td>  \n",
              "</tr>\n",
              "<tr>\n",
              "  <th>Date:</th>             <td>Mon, 29 Jul 2024</td> <th>  Prob (F-statistic):</th>   <td>  0.00</td>   \n",
              "</tr>\n",
              "<tr>\n",
              "  <th>Time:</th>                 <td>00:34:55</td>     <th>  Log-Likelihood:    </th> <td>-3.1517e+05</td>\n",
              "</tr>\n",
              "<tr>\n",
              "  <th>No. Observations:</th>      <td> 22687</td>      <th>  AIC:               </th>  <td>6.304e+05</td> \n",
              "</tr>\n",
              "<tr>\n",
              "  <th>Df Residuals:</th>          <td> 22681</td>      <th>  BIC:               </th>  <td>6.304e+05</td> \n",
              "</tr>\n",
              "<tr>\n",
              "  <th>Df Model:</th>              <td>     5</td>      <th>                     </th>      <td> </td>     \n",
              "</tr>\n",
              "<tr>\n",
              "  <th>Covariance Type:</th>      <td>nonrobust</td>    <th>                     </th>      <td> </td>     \n",
              "</tr>\n",
              "</table>\n",
              "<table class=\"simpletable\">\n",
              "<tr>\n",
              "        <td></td>           <th>coef</th>     <th>std err</th>      <th>t</th>      <th>P>|t|</th>  <th>[0.025</th>    <th>0.975]</th>  \n",
              "</tr>\n",
              "<tr>\n",
              "  <th>const</th>         <td>-5.219e+05</td> <td> 1.57e+04</td> <td>  -33.342</td> <td> 0.000</td> <td>-5.53e+05</td> <td>-4.91e+05</td>\n",
              "</tr>\n",
              "<tr>\n",
              "  <th>SqFtTotLiving</th> <td>  228.8306</td> <td>    3.899</td> <td>   58.694</td> <td> 0.000</td> <td>  221.189</td> <td>  236.472</td>\n",
              "</tr>\n",
              "<tr>\n",
              "  <th>SqFtLot</th>       <td>   -0.0605</td> <td>    0.061</td> <td>   -0.988</td> <td> 0.323</td> <td>   -0.180</td> <td>    0.059</td>\n",
              "</tr>\n",
              "<tr>\n",
              "  <th>Bathrooms</th>     <td>-1.944e+04</td> <td> 3625.388</td> <td>   -5.363</td> <td> 0.000</td> <td>-2.65e+04</td> <td>-1.23e+04</td>\n",
              "</tr>\n",
              "<tr>\n",
              "  <th>Bedrooms</th>      <td>-4.777e+04</td> <td> 2489.732</td> <td>  -19.187</td> <td> 0.000</td> <td>-5.27e+04</td> <td>-4.29e+04</td>\n",
              "</tr>\n",
              "<tr>\n",
              "  <th>BldgGrade</th>     <td> 1.061e+05</td> <td> 2396.445</td> <td>   44.277</td> <td> 0.000</td> <td> 1.01e+05</td> <td> 1.11e+05</td>\n",
              "</tr>\n",
              "</table>\n",
              "<table class=\"simpletable\">\n",
              "<tr>\n",
              "  <th>Omnibus:</th>       <td>29676.557</td> <th>  Durbin-Watson:     </th>   <td>   1.247</td>  \n",
              "</tr>\n",
              "<tr>\n",
              "  <th>Prob(Omnibus):</th>  <td> 0.000</td>   <th>  Jarque-Bera (JB):  </th> <td>19390738.346</td>\n",
              "</tr>\n",
              "<tr>\n",
              "  <th>Skew:</th>           <td> 6.889</td>   <th>  Prob(JB):          </th>   <td>    0.00</td>  \n",
              "</tr>\n",
              "<tr>\n",
              "  <th>Kurtosis:</th>       <td>145.559</td>  <th>  Cond. No.          </th>   <td>2.86e+05</td>  \n",
              "</tr>\n",
              "</table><br/><br/>Notes:<br/>[1] Standard Errors assume that the covariance matrix of the errors is correctly specified.<br/>[2] The condition number is large, 2.86e+05. This might indicate that there are<br/>strong multicollinearity or other numerical problems."
            ],
            "text/latex": "\\begin{center}\n\\begin{tabular}{lclc}\n\\toprule\n\\textbf{Dep. Variable:}    &   AdjSalePrice   & \\textbf{  R-squared:         } &      0.541    \\\\\n\\textbf{Model:}            &       OLS        & \\textbf{  Adj. R-squared:    } &      0.540    \\\\\n\\textbf{Method:}           &  Least Squares   & \\textbf{  F-statistic:       } &      5338.    \\\\\n\\textbf{Date:}             & Mon, 29 Jul 2024 & \\textbf{  Prob (F-statistic):} &      0.00     \\\\\n\\textbf{Time:}             &     00:34:55     & \\textbf{  Log-Likelihood:    } & -3.1517e+05   \\\\\n\\textbf{No. Observations:} &       22687      & \\textbf{  AIC:               } &  6.304e+05    \\\\\n\\textbf{Df Residuals:}     &       22681      & \\textbf{  BIC:               } &  6.304e+05    \\\\\n\\textbf{Df Model:}         &           5      & \\textbf{                     } &               \\\\\n\\textbf{Covariance Type:}  &    nonrobust     & \\textbf{                     } &               \\\\\n\\bottomrule\n\\end{tabular}\n\\begin{tabular}{lcccccc}\n                       & \\textbf{coef} & \\textbf{std err} & \\textbf{t} & \\textbf{P$> |$t$|$} & \\textbf{[0.025} & \\textbf{0.975]}  \\\\\n\\midrule\n\\textbf{const}         &   -5.219e+05  &     1.57e+04     &   -33.342  &         0.000        &    -5.53e+05    &    -4.91e+05     \\\\\n\\textbf{SqFtTotLiving} &     228.8306  &        3.899     &    58.694  &         0.000        &      221.189    &      236.472     \\\\\n\\textbf{SqFtLot}       &      -0.0605  &        0.061     &    -0.988  &         0.323        &       -0.180    &        0.059     \\\\\n\\textbf{Bathrooms}     &   -1.944e+04  &     3625.388     &    -5.363  &         0.000        &    -2.65e+04    &    -1.23e+04     \\\\\n\\textbf{Bedrooms}      &   -4.777e+04  &     2489.732     &   -19.187  &         0.000        &    -5.27e+04    &    -4.29e+04     \\\\\n\\textbf{BldgGrade}     &    1.061e+05  &     2396.445     &    44.277  &         0.000        &     1.01e+05    &     1.11e+05     \\\\\n\\bottomrule\n\\end{tabular}\n\\begin{tabular}{lclc}\n\\textbf{Omnibus:}       & 29676.557 & \\textbf{  Durbin-Watson:     } &      1.247    \\\\\n\\textbf{Prob(Omnibus):} &    0.000  & \\textbf{  Jarque-Bera (JB):  } & 19390738.346  \\\\\n\\textbf{Skew:}          &    6.889  & \\textbf{  Prob(JB):          } &       0.00    \\\\\n\\textbf{Kurtosis:}      &  145.559  & \\textbf{  Cond. No.          } &   2.86e+05    \\\\\n\\bottomrule\n\\end{tabular}\n%\\caption{OLS Regression Results}\n\\end{center}\n\nNotes: \\newline\n [1] Standard Errors assume that the covariance matrix of the errors is correctly specified. \\newline\n [2] The condition number is large, 2.86e+05. This might indicate that there are \\newline\n strong multicollinearity or other numerical problems."
          },
          "metadata": {},
          "execution_count": 11
        }
      ]
    },
    {
      "cell_type": "markdown",
      "source": [
        "- statsmodel.OLS 적용시 주의: target => endog .. add_const()를 추가 함으로서 상수함 추가됨."
      ],
      "metadata": {
        "id": "qSX8trOKoiQh"
      }
    },
    {
      "cell_type": "markdown",
      "source": [
        "- OLS summary 해석\n",
        "  - $ R^2 $ : 결정계수라고도 하는데 , 모델이 데이터를 얼마나 잘 설명 하고 있는지 혹은 적합한지에 대한 평가 지표. $Adj. R^2$ 는 자유도가 반영된 결정계수로 다중변수 추가에 대한 패널티가 감안된 평가지표.\n",
        "  - t 통계량, p : 예측변수의 통계적 유의미성 평가하는 지표 이다. 일반적으로 유의지수는 0.05를 기준으로 삼는다.\n",
        "  - F 통계량, P : 모델의 통계적 유의미선을 평가하는 지표. 다시 얘기 하면 회귀식이 통계적으로 유의미하다고 볼 수 있는지를 평가 할 수 있다.\n",
        "  - Durbin-Watson : 오차항의 독립성을 검정. 값은 0 ~ 4 까지의 범위를 가지며 , 2를 기준으로 한다. 일반적으로 1.5~2.5 사이에 있다면 자기 상관이 문제 되지 않는다고 본다.\n",
        "  - Jarque-Bera : 오차항의 정규성 검정.(자가 상관 참조)\n",
        "  - Omnibus : 오차항의 정규성 검정.(모델의 유의성 판단)\n",
        "\n"
      ],
      "metadata": {
        "id": "A0cM1zCbphLv"
      }
    },
    {
      "cell_type": "markdown",
      "source": [
        "## 교차타당성검사\n",
        " - K-Fold cross validation  "
      ],
      "metadata": {
        "id": "xXynwQM89Lr7"
      }
    },
    {
      "cell_type": "markdown",
      "source": [
        "## 모형 선택 및 단계적 회귀"
      ],
      "metadata": {
        "id": "KWeyYTMTxqCA"
      }
    },
    {
      "cell_type": "markdown",
      "source": [
        "   - 모든 것이 동일한 조건에서는 단순한 모델로 부터 시작 한다.\n",
        "   - 변수가 추가 될수록 $R^2$ 가 증가 하기 때문에 , 추가 하는 변수들은 모델 선택에 크게 도움이 되지 않는다. 이럴 경우 $Adj.R^2$ 를 확인 한다.\n",
        "\n",
        "   - AIC/BIC : 모형의 적합도와 적합도의 균형을 잡는 지표. 다시 얘기 하면 변수가 추가 되면 결정 계수가 상승 할 수 있는데, 이때 추가되는 특성의 수에 패널티를 부여 함으로서 의미 없는 변수가 성능에 반영 되지 않도록 한다.  "
      ],
      "metadata": {
        "id": "3fGl6yNL9V7o"
      }
    },
    {
      "cell_type": "code",
      "source": [
        "feature = house[['SqFtTotLiving', 'SqFtLot', 'Bathrooms', 'Bedrooms',\n",
        "              'BldgGrade', 'PropertyType', 'NbrLivingUnits',\n",
        "              'SqFtFinBasement', 'YrBuilt', 'YrRenovated',\n",
        "              'NewConstruction']]\n",
        "\n",
        "# 데이터 변환및 처리\n",
        "feature_ohe  = pd.get_dummies(feature , drop_first= True , dtype= 'int')\n",
        "feature_ohe['NewConstruction'] = [1 if d else 0 for d in feature_ohe['NewConstruction']]\n",
        "\n",
        "# OLS\n",
        "house_model = sm.OLS(target , sm.add_constant(feature_ohe)).fit()\n",
        "house_model.summary()"
      ],
      "metadata": {
        "colab": {
          "base_uri": "https://localhost:8080/",
          "height": 705
        },
        "id": "032juB_kzThs",
        "outputId": "ec97de44-94c8-4cd7-8618-6ebb06d3f53a"
      },
      "execution_count": 12,
      "outputs": [
        {
          "output_type": "execute_result",
          "data": {
            "text/plain": [
              "<class 'statsmodels.iolib.summary.Summary'>\n",
              "\"\"\"\n",
              "                            OLS Regression Results                            \n",
              "==============================================================================\n",
              "Dep. Variable:           AdjSalePrice   R-squared:                       0.595\n",
              "Model:                            OLS   Adj. R-squared:                  0.594\n",
              "Method:                 Least Squares   F-statistic:                     2771.\n",
              "Date:                Mon, 29 Jul 2024   Prob (F-statistic):               0.00\n",
              "Time:                        00:34:55   Log-Likelihood:            -3.1375e+05\n",
              "No. Observations:               22687   AIC:                         6.275e+05\n",
              "Df Residuals:                   22674   BIC:                         6.276e+05\n",
              "Df Model:                          12                                         \n",
              "Covariance Type:            nonrobust                                         \n",
              "==============================================================================================\n",
              "                                 coef    std err          t      P>|t|      [0.025      0.975]\n",
              "----------------------------------------------------------------------------------------------\n",
              "const                       6.182e+06   1.55e+05     39.902      0.000    5.88e+06    6.49e+06\n",
              "SqFtTotLiving                198.6364      4.234     46.920      0.000     190.338     206.934\n",
              "SqFtLot                        0.0771      0.058      1.330      0.184      -0.037       0.191\n",
              "Bathrooms                   4.286e+04   3808.114     11.255      0.000    3.54e+04    5.03e+04\n",
              "Bedrooms                   -5.187e+04   2396.904    -21.638      0.000   -5.66e+04   -4.72e+04\n",
              "BldgGrade                   1.373e+05   2441.242     56.228      0.000    1.32e+05    1.42e+05\n",
              "NbrLivingUnits              5723.8438   1.76e+04      0.326      0.744   -2.87e+04    4.01e+04\n",
              "SqFtFinBasement                7.0611      4.627      1.526      0.127      -2.009      16.131\n",
              "YrBuilt                    -3574.2210     77.228    -46.282      0.000   -3725.593   -3422.849\n",
              "YrRenovated                   -2.5311      3.924     -0.645      0.519     -10.222       5.160\n",
              "NewConstruction            -2489.1122   5936.692     -0.419      0.675   -1.41e+04    9147.211\n",
              "PropertyType_Single Family  2.997e+04   2.61e+04      1.149      0.251   -2.12e+04    8.11e+04\n",
              "PropertyType_Townhouse      9.286e+04    2.7e+04      3.438      0.001    3.99e+04    1.46e+05\n",
              "==============================================================================\n",
              "Omnibus:                    31006.128   Durbin-Watson:                   1.393\n",
              "Prob(Omnibus):                  0.000   Jarque-Bera (JB):         26251977.078\n",
              "Skew:                           7.427   Prob(JB):                         0.00\n",
              "Kurtosis:                     168.984   Cond. No.                     2.98e+06\n",
              "==============================================================================\n",
              "\n",
              "Notes:\n",
              "[1] Standard Errors assume that the covariance matrix of the errors is correctly specified.\n",
              "[2] The condition number is large, 2.98e+06. This might indicate that there are\n",
              "strong multicollinearity or other numerical problems.\n",
              "\"\"\""
            ],
            "text/html": [
              "<table class=\"simpletable\">\n",
              "<caption>OLS Regression Results</caption>\n",
              "<tr>\n",
              "  <th>Dep. Variable:</th>      <td>AdjSalePrice</td>   <th>  R-squared:         </th>  <td>   0.595</td>  \n",
              "</tr>\n",
              "<tr>\n",
              "  <th>Model:</th>                   <td>OLS</td>       <th>  Adj. R-squared:    </th>  <td>   0.594</td>  \n",
              "</tr>\n",
              "<tr>\n",
              "  <th>Method:</th>             <td>Least Squares</td>  <th>  F-statistic:       </th>  <td>   2771.</td>  \n",
              "</tr>\n",
              "<tr>\n",
              "  <th>Date:</th>             <td>Mon, 29 Jul 2024</td> <th>  Prob (F-statistic):</th>   <td>  0.00</td>   \n",
              "</tr>\n",
              "<tr>\n",
              "  <th>Time:</th>                 <td>00:34:55</td>     <th>  Log-Likelihood:    </th> <td>-3.1375e+05</td>\n",
              "</tr>\n",
              "<tr>\n",
              "  <th>No. Observations:</th>      <td> 22687</td>      <th>  AIC:               </th>  <td>6.275e+05</td> \n",
              "</tr>\n",
              "<tr>\n",
              "  <th>Df Residuals:</th>          <td> 22674</td>      <th>  BIC:               </th>  <td>6.276e+05</td> \n",
              "</tr>\n",
              "<tr>\n",
              "  <th>Df Model:</th>              <td>    12</td>      <th>                     </th>      <td> </td>     \n",
              "</tr>\n",
              "<tr>\n",
              "  <th>Covariance Type:</th>      <td>nonrobust</td>    <th>                     </th>      <td> </td>     \n",
              "</tr>\n",
              "</table>\n",
              "<table class=\"simpletable\">\n",
              "<tr>\n",
              "               <td></td>                 <th>coef</th>     <th>std err</th>      <th>t</th>      <th>P>|t|</th>  <th>[0.025</th>    <th>0.975]</th>  \n",
              "</tr>\n",
              "<tr>\n",
              "  <th>const</th>                      <td> 6.182e+06</td> <td> 1.55e+05</td> <td>   39.902</td> <td> 0.000</td> <td> 5.88e+06</td> <td> 6.49e+06</td>\n",
              "</tr>\n",
              "<tr>\n",
              "  <th>SqFtTotLiving</th>              <td>  198.6364</td> <td>    4.234</td> <td>   46.920</td> <td> 0.000</td> <td>  190.338</td> <td>  206.934</td>\n",
              "</tr>\n",
              "<tr>\n",
              "  <th>SqFtLot</th>                    <td>    0.0771</td> <td>    0.058</td> <td>    1.330</td> <td> 0.184</td> <td>   -0.037</td> <td>    0.191</td>\n",
              "</tr>\n",
              "<tr>\n",
              "  <th>Bathrooms</th>                  <td> 4.286e+04</td> <td> 3808.114</td> <td>   11.255</td> <td> 0.000</td> <td> 3.54e+04</td> <td> 5.03e+04</td>\n",
              "</tr>\n",
              "<tr>\n",
              "  <th>Bedrooms</th>                   <td>-5.187e+04</td> <td> 2396.904</td> <td>  -21.638</td> <td> 0.000</td> <td>-5.66e+04</td> <td>-4.72e+04</td>\n",
              "</tr>\n",
              "<tr>\n",
              "  <th>BldgGrade</th>                  <td> 1.373e+05</td> <td> 2441.242</td> <td>   56.228</td> <td> 0.000</td> <td> 1.32e+05</td> <td> 1.42e+05</td>\n",
              "</tr>\n",
              "<tr>\n",
              "  <th>NbrLivingUnits</th>             <td> 5723.8438</td> <td> 1.76e+04</td> <td>    0.326</td> <td> 0.744</td> <td>-2.87e+04</td> <td> 4.01e+04</td>\n",
              "</tr>\n",
              "<tr>\n",
              "  <th>SqFtFinBasement</th>            <td>    7.0611</td> <td>    4.627</td> <td>    1.526</td> <td> 0.127</td> <td>   -2.009</td> <td>   16.131</td>\n",
              "</tr>\n",
              "<tr>\n",
              "  <th>YrBuilt</th>                    <td>-3574.2210</td> <td>   77.228</td> <td>  -46.282</td> <td> 0.000</td> <td>-3725.593</td> <td>-3422.849</td>\n",
              "</tr>\n",
              "<tr>\n",
              "  <th>YrRenovated</th>                <td>   -2.5311</td> <td>    3.924</td> <td>   -0.645</td> <td> 0.519</td> <td>  -10.222</td> <td>    5.160</td>\n",
              "</tr>\n",
              "<tr>\n",
              "  <th>NewConstruction</th>            <td>-2489.1122</td> <td> 5936.692</td> <td>   -0.419</td> <td> 0.675</td> <td>-1.41e+04</td> <td> 9147.211</td>\n",
              "</tr>\n",
              "<tr>\n",
              "  <th>PropertyType_Single Family</th> <td> 2.997e+04</td> <td> 2.61e+04</td> <td>    1.149</td> <td> 0.251</td> <td>-2.12e+04</td> <td> 8.11e+04</td>\n",
              "</tr>\n",
              "<tr>\n",
              "  <th>PropertyType_Townhouse</th>     <td> 9.286e+04</td> <td>  2.7e+04</td> <td>    3.438</td> <td> 0.001</td> <td> 3.99e+04</td> <td> 1.46e+05</td>\n",
              "</tr>\n",
              "</table>\n",
              "<table class=\"simpletable\">\n",
              "<tr>\n",
              "  <th>Omnibus:</th>       <td>31006.128</td> <th>  Durbin-Watson:     </th>   <td>   1.393</td>  \n",
              "</tr>\n",
              "<tr>\n",
              "  <th>Prob(Omnibus):</th>  <td> 0.000</td>   <th>  Jarque-Bera (JB):  </th> <td>26251977.078</td>\n",
              "</tr>\n",
              "<tr>\n",
              "  <th>Skew:</th>           <td> 7.427</td>   <th>  Prob(JB):          </th>   <td>    0.00</td>  \n",
              "</tr>\n",
              "<tr>\n",
              "  <th>Kurtosis:</th>       <td>168.984</td>  <th>  Cond. No.          </th>   <td>2.98e+06</td>  \n",
              "</tr>\n",
              "</table><br/><br/>Notes:<br/>[1] Standard Errors assume that the covariance matrix of the errors is correctly specified.<br/>[2] The condition number is large, 2.98e+06. This might indicate that there are<br/>strong multicollinearity or other numerical problems."
            ],
            "text/latex": "\\begin{center}\n\\begin{tabular}{lclc}\n\\toprule\n\\textbf{Dep. Variable:}              &   AdjSalePrice   & \\textbf{  R-squared:         } &      0.595    \\\\\n\\textbf{Model:}                      &       OLS        & \\textbf{  Adj. R-squared:    } &      0.594    \\\\\n\\textbf{Method:}                     &  Least Squares   & \\textbf{  F-statistic:       } &      2771.    \\\\\n\\textbf{Date:}                       & Mon, 29 Jul 2024 & \\textbf{  Prob (F-statistic):} &      0.00     \\\\\n\\textbf{Time:}                       &     00:34:55     & \\textbf{  Log-Likelihood:    } & -3.1375e+05   \\\\\n\\textbf{No. Observations:}           &       22687      & \\textbf{  AIC:               } &  6.275e+05    \\\\\n\\textbf{Df Residuals:}               &       22674      & \\textbf{  BIC:               } &  6.276e+05    \\\\\n\\textbf{Df Model:}                   &          12      & \\textbf{                     } &               \\\\\n\\textbf{Covariance Type:}            &    nonrobust     & \\textbf{                     } &               \\\\\n\\bottomrule\n\\end{tabular}\n\\begin{tabular}{lcccccc}\n                                     & \\textbf{coef} & \\textbf{std err} & \\textbf{t} & \\textbf{P$> |$t$|$} & \\textbf{[0.025} & \\textbf{0.975]}  \\\\\n\\midrule\n\\textbf{const}                       &    6.182e+06  &     1.55e+05     &    39.902  &         0.000        &     5.88e+06    &     6.49e+06     \\\\\n\\textbf{SqFtTotLiving}               &     198.6364  &        4.234     &    46.920  &         0.000        &      190.338    &      206.934     \\\\\n\\textbf{SqFtLot}                     &       0.0771  &        0.058     &     1.330  &         0.184        &       -0.037    &        0.191     \\\\\n\\textbf{Bathrooms}                   &    4.286e+04  &     3808.114     &    11.255  &         0.000        &     3.54e+04    &     5.03e+04     \\\\\n\\textbf{Bedrooms}                    &   -5.187e+04  &     2396.904     &   -21.638  &         0.000        &    -5.66e+04    &    -4.72e+04     \\\\\n\\textbf{BldgGrade}                   &    1.373e+05  &     2441.242     &    56.228  &         0.000        &     1.32e+05    &     1.42e+05     \\\\\n\\textbf{NbrLivingUnits}              &    5723.8438  &     1.76e+04     &     0.326  &         0.744        &    -2.87e+04    &     4.01e+04     \\\\\n\\textbf{SqFtFinBasement}             &       7.0611  &        4.627     &     1.526  &         0.127        &       -2.009    &       16.131     \\\\\n\\textbf{YrBuilt}                     &   -3574.2210  &       77.228     &   -46.282  &         0.000        &    -3725.593    &    -3422.849     \\\\\n\\textbf{YrRenovated}                 &      -2.5311  &        3.924     &    -0.645  &         0.519        &      -10.222    &        5.160     \\\\\n\\textbf{NewConstruction}             &   -2489.1122  &     5936.692     &    -0.419  &         0.675        &    -1.41e+04    &     9147.211     \\\\\n\\textbf{PropertyType\\_Single Family} &    2.997e+04  &     2.61e+04     &     1.149  &         0.251        &    -2.12e+04    &     8.11e+04     \\\\\n\\textbf{PropertyType\\_Townhouse}     &    9.286e+04  &      2.7e+04     &     3.438  &         0.001        &     3.99e+04    &     1.46e+05     \\\\\n\\bottomrule\n\\end{tabular}\n\\begin{tabular}{lclc}\n\\textbf{Omnibus:}       & 31006.128 & \\textbf{  Durbin-Watson:     } &      1.393    \\\\\n\\textbf{Prob(Omnibus):} &    0.000  & \\textbf{  Jarque-Bera (JB):  } & 26251977.078  \\\\\n\\textbf{Skew:}          &    7.427  & \\textbf{  Prob(JB):          } &       0.00    \\\\\n\\textbf{Kurtosis:}      &  168.984  & \\textbf{  Cond. No.          } &   2.98e+06    \\\\\n\\bottomrule\n\\end{tabular}\n%\\caption{OLS Regression Results}\n\\end{center}\n\nNotes: \\newline\n [1] Standard Errors assume that the covariance matrix of the errors is correctly specified. \\newline\n [2] The condition number is large, 2.98e+06. This might indicate that there are \\newline\n strong multicollinearity or other numerical problems."
          },
          "metadata": {},
          "execution_count": 12
        }
      ]
    },
    {
      "cell_type": "code",
      "source": [
        "print('AIC : ', house_model.aic)\n",
        "print('BIC : ', house_model.bic)"
      ],
      "metadata": {
        "colab": {
          "base_uri": "https://localhost:8080/"
        },
        "id": "vjv687KvAmr3",
        "outputId": "410c4f0d-447d-4d71-b34d-4215351faeed"
      },
      "execution_count": 13,
      "outputs": [
        {
          "output_type": "stream",
          "name": "stdout",
          "text": [
            "AIC :  627528.3638290131\n",
            "BIC :  627632.7479445917\n"
          ]
        }
      ]
    },
    {
      "cell_type": "markdown",
      "source": [
        "- AIC , BIC 를 활용 해서 적절한 변수를 찾아서 모델에 적용할 수 있다.\n",
        "- 대표적인 통계적인 방법으로 전진 선택 , 후진 제거 , 단계적 선택 방법등이 있다."
      ],
      "metadata": {
        "id": "oCtJDPMEA2dn"
      }
    },
    {
      "cell_type": "code",
      "source": [
        "# dmba 모듈을 사용 하는 방법.\n",
        "from dmba import stepwise_selection , AIC_score\n",
        "\n",
        "def train_model(var):\n",
        "  if len(var) == 0:\n",
        "    return None\n",
        "  model = LinearRegression()\n",
        "  model.fit(feature_ohe[var] , target)\n",
        "  return model\n",
        "\n",
        "def score_model(model , var):\n",
        "  if len(var) == 0 :\n",
        "    return AIC_score(target , [target.mean()] * len(target) , model ,df = 1)\n",
        "  return AIC_score(target , model.predict(feature_ohe[var]) , model)\n",
        "\n",
        "best_model , best_variables = stepwise_selection(feature_ohe.columns , train_model , score_model , verbose = True)"
      ],
      "metadata": {
        "colab": {
          "base_uri": "https://localhost:8080/"
        },
        "id": "OAsNMzGvxltY",
        "outputId": "89a5a56f-85d1-40c8-f099-7d59007bf4a3"
      },
      "execution_count": 14,
      "outputs": [
        {
          "output_type": "stream",
          "name": "stdout",
          "text": [
            "Colab environment detected.\n",
            "Variables: SqFtTotLiving, SqFtLot, Bathrooms, Bedrooms, BldgGrade, NbrLivingUnits, SqFtFinBasement, YrBuilt, YrRenovated, NewConstruction, PropertyType_Single Family, PropertyType_Townhouse\n",
            "Start: score=647988.32, constant\n",
            "Step: score=633013.35, add SqFtTotLiving\n",
            "Step: score=630793.74, add BldgGrade\n",
            "Step: score=628230.29, add YrBuilt\n",
            "Step: score=627784.16, add Bedrooms\n",
            "Step: score=627602.21, add Bathrooms\n",
            "Step: score=627525.65, add PropertyType_Townhouse\n",
            "Step: score=627525.08, add SqFtFinBasement\n",
            "Step: score=627524.98, add PropertyType_Single Family\n",
            "Step: score=627524.98, unchanged None\n"
          ]
        }
      ]
    },
    {
      "cell_type": "code",
      "source": [
        "print(f'intercept : {best_model.intercept_ :.3f}')\n",
        "print('Coef' )\n",
        "for name , coef in zip(best_variables , best_model.coef_):\n",
        "  print(f'{name} : {coef}')"
      ],
      "metadata": {
        "colab": {
          "base_uri": "https://localhost:8080/"
        },
        "id": "4Mz4tz5kIlj5",
        "outputId": "295e5938-2de4-493d-cce5-ef5ba2d675be"
      },
      "execution_count": 15,
      "outputs": [
        {
          "output_type": "stream",
          "name": "stdout",
          "text": [
            "intercept : 6178645.017\n",
            "Coef\n",
            "SqFtTotLiving : 199.2775530420188\n",
            "BldgGrade : 137159.56022619782\n",
            "YrBuilt : -3565.4249392492984\n",
            "Bedrooms : -51947.38367361323\n",
            "Bathrooms : 42396.16452771774\n",
            "PropertyType_Townhouse : 84479.16203300416\n",
            "SqFtFinBasement : 7.046974967553979\n",
            "PropertyType_Single Family : 22912.055187017646\n"
          ]
        }
      ]
    },
    {
      "cell_type": "code",
      "source": [
        "from dmba import forward_selection , backward_elimination\n",
        "\n",
        "best_model_forward , best_variables_forward = forward_selection(feature_ohe.columns , train_model , score_model , verbose = True)"
      ],
      "metadata": {
        "colab": {
          "base_uri": "https://localhost:8080/"
        },
        "id": "Pfq71Mpvzduq",
        "outputId": "a620d7ac-b92e-4676-f20e-c6181b1134c1"
      },
      "execution_count": 16,
      "outputs": [
        {
          "output_type": "stream",
          "name": "stdout",
          "text": [
            "Variables: SqFtTotLiving, SqFtLot, Bathrooms, Bedrooms, BldgGrade, NbrLivingUnits, SqFtFinBasement, YrBuilt, YrRenovated, NewConstruction, PropertyType_Single Family, PropertyType_Townhouse\n",
            "Start: score=647988.32, constant\n",
            "Step: score=633013.35, add SqFtTotLiving\n",
            "Step: score=630793.74, add BldgGrade\n",
            "Step: score=628230.29, add YrBuilt\n",
            "Step: score=627784.16, add Bedrooms\n",
            "Step: score=627602.21, add Bathrooms\n",
            "Step: score=627525.65, add PropertyType_Townhouse\n",
            "Step: score=627525.08, add SqFtFinBasement\n",
            "Step: score=627524.98, add PropertyType_Single Family\n",
            "Step: score=627524.98, add None\n"
          ]
        }
      ]
    },
    {
      "cell_type": "code",
      "source": [
        "best_variables_forward"
      ],
      "metadata": {
        "colab": {
          "base_uri": "https://localhost:8080/"
        },
        "id": "gl37bOQELSQh",
        "outputId": "076ce2d7-ab32-422a-afed-9a9033e22d21"
      },
      "execution_count": 17,
      "outputs": [
        {
          "output_type": "execute_result",
          "data": {
            "text/plain": [
              "['SqFtTotLiving',\n",
              " 'BldgGrade',\n",
              " 'YrBuilt',\n",
              " 'Bedrooms',\n",
              " 'Bathrooms',\n",
              " 'PropertyType_Townhouse',\n",
              " 'SqFtFinBasement',\n",
              " 'PropertyType_Single Family']"
            ]
          },
          "metadata": {},
          "execution_count": 17
        }
      ]
    },
    {
      "cell_type": "code",
      "source": [
        "best_model_back , best_variables_back = backward_elimination(feature_ohe.columns , train_model , score_model , verbose = True)"
      ],
      "metadata": {
        "colab": {
          "base_uri": "https://localhost:8080/"
        },
        "id": "-s1zrUVZKvT_",
        "outputId": "1dd57d3b-c15e-4469-ee50-0e992f73778c"
      },
      "execution_count": 18,
      "outputs": [
        {
          "output_type": "stream",
          "name": "stdout",
          "text": [
            "Variables: SqFtTotLiving, SqFtLot, Bathrooms, Bedrooms, BldgGrade, NbrLivingUnits, SqFtFinBasement, YrBuilt, YrRenovated, NewConstruction, PropertyType_Single Family, PropertyType_Townhouse\n",
            "Start: score=627530.36\n",
            "Step: score=627528.47, remove NbrLivingUnits\n",
            "Step: score=627526.65, remove NewConstruction\n",
            "Step: score=627525.08, remove YrRenovated\n",
            "Step: score=627524.98, remove SqFtLot\n",
            "Step: score=627524.98, remove None\n"
          ]
        }
      ]
    },
    {
      "cell_type": "code",
      "source": [
        "best_variables_back"
      ],
      "metadata": {
        "colab": {
          "base_uri": "https://localhost:8080/"
        },
        "id": "5f57m3OSLUle",
        "outputId": "1e48ada3-b2be-4109-e166-e8a4fb583a42"
      },
      "execution_count": 19,
      "outputs": [
        {
          "output_type": "execute_result",
          "data": {
            "text/plain": [
              "['SqFtTotLiving',\n",
              " 'Bathrooms',\n",
              " 'Bedrooms',\n",
              " 'BldgGrade',\n",
              " 'SqFtFinBasement',\n",
              " 'YrBuilt',\n",
              " 'PropertyType_Single Family',\n",
              " 'PropertyType_Townhouse']"
            ]
          },
          "metadata": {},
          "execution_count": 19
        }
      ]
    },
    {
      "cell_type": "markdown",
      "source": [
        "## 가중 회귀"
      ],
      "metadata": {
        "id": "KBRYTY6TOBmZ"
      }
    },
    {
      "cell_type": "code",
      "source": [
        "house['Year'] = [int(date.split('-')[0]) for date in house.DocumentDate]\n",
        "house['Weight'] = house['Year'] - 2005"
      ],
      "metadata": {
        "id": "tT27usypNbeZ"
      },
      "execution_count": 20,
      "outputs": []
    },
    {
      "cell_type": "markdown",
      "source": [
        "- 가중 회귀를 진행 하기에 앞서 , Year를 기준으로 정보의 최신성을 가중치로 사용하 도록 변환 해 보자."
      ],
      "metadata": {
        "id": "ZYuYz8KUOm0z"
      }
    },
    {
      "cell_type": "code",
      "source": [
        "predictors = ['SqFtTotLiving', 'SqFtLot', 'Bathrooms',\n",
        "              'Bedrooms', 'BldgGrade']\n",
        "\n",
        "house_wt = LinearRegression()\n",
        "house_wt.fit(house[predictors], target , sample_weight = house.Weight)\n",
        "\n",
        "house_lm = LinearRegression()\n",
        "house_lm.fit(house[predictors], target)\n"
      ],
      "metadata": {
        "colab": {
          "base_uri": "https://localhost:8080/",
          "height": 74
        },
        "id": "k6HImht7PM6w",
        "outputId": "861b7787-145f-4b12-b1f0-01a823dbf4cb"
      },
      "execution_count": 21,
      "outputs": [
        {
          "output_type": "execute_result",
          "data": {
            "text/plain": [
              "LinearRegression()"
            ],
            "text/html": [
              "<style>#sk-container-id-1 {color: black;}#sk-container-id-1 pre{padding: 0;}#sk-container-id-1 div.sk-toggleable {background-color: white;}#sk-container-id-1 label.sk-toggleable__label {cursor: pointer;display: block;width: 100%;margin-bottom: 0;padding: 0.3em;box-sizing: border-box;text-align: center;}#sk-container-id-1 label.sk-toggleable__label-arrow:before {content: \"▸\";float: left;margin-right: 0.25em;color: #696969;}#sk-container-id-1 label.sk-toggleable__label-arrow:hover:before {color: black;}#sk-container-id-1 div.sk-estimator:hover label.sk-toggleable__label-arrow:before {color: black;}#sk-container-id-1 div.sk-toggleable__content {max-height: 0;max-width: 0;overflow: hidden;text-align: left;background-color: #f0f8ff;}#sk-container-id-1 div.sk-toggleable__content pre {margin: 0.2em;color: black;border-radius: 0.25em;background-color: #f0f8ff;}#sk-container-id-1 input.sk-toggleable__control:checked~div.sk-toggleable__content {max-height: 200px;max-width: 100%;overflow: auto;}#sk-container-id-1 input.sk-toggleable__control:checked~label.sk-toggleable__label-arrow:before {content: \"▾\";}#sk-container-id-1 div.sk-estimator input.sk-toggleable__control:checked~label.sk-toggleable__label {background-color: #d4ebff;}#sk-container-id-1 div.sk-label input.sk-toggleable__control:checked~label.sk-toggleable__label {background-color: #d4ebff;}#sk-container-id-1 input.sk-hidden--visually {border: 0;clip: rect(1px 1px 1px 1px);clip: rect(1px, 1px, 1px, 1px);height: 1px;margin: -1px;overflow: hidden;padding: 0;position: absolute;width: 1px;}#sk-container-id-1 div.sk-estimator {font-family: monospace;background-color: #f0f8ff;border: 1px dotted black;border-radius: 0.25em;box-sizing: border-box;margin-bottom: 0.5em;}#sk-container-id-1 div.sk-estimator:hover {background-color: #d4ebff;}#sk-container-id-1 div.sk-parallel-item::after {content: \"\";width: 100%;border-bottom: 1px solid gray;flex-grow: 1;}#sk-container-id-1 div.sk-label:hover label.sk-toggleable__label {background-color: #d4ebff;}#sk-container-id-1 div.sk-serial::before {content: \"\";position: absolute;border-left: 1px solid gray;box-sizing: border-box;top: 0;bottom: 0;left: 50%;z-index: 0;}#sk-container-id-1 div.sk-serial {display: flex;flex-direction: column;align-items: center;background-color: white;padding-right: 0.2em;padding-left: 0.2em;position: relative;}#sk-container-id-1 div.sk-item {position: relative;z-index: 1;}#sk-container-id-1 div.sk-parallel {display: flex;align-items: stretch;justify-content: center;background-color: white;position: relative;}#sk-container-id-1 div.sk-item::before, #sk-container-id-1 div.sk-parallel-item::before {content: \"\";position: absolute;border-left: 1px solid gray;box-sizing: border-box;top: 0;bottom: 0;left: 50%;z-index: -1;}#sk-container-id-1 div.sk-parallel-item {display: flex;flex-direction: column;z-index: 1;position: relative;background-color: white;}#sk-container-id-1 div.sk-parallel-item:first-child::after {align-self: flex-end;width: 50%;}#sk-container-id-1 div.sk-parallel-item:last-child::after {align-self: flex-start;width: 50%;}#sk-container-id-1 div.sk-parallel-item:only-child::after {width: 0;}#sk-container-id-1 div.sk-dashed-wrapped {border: 1px dashed gray;margin: 0 0.4em 0.5em 0.4em;box-sizing: border-box;padding-bottom: 0.4em;background-color: white;}#sk-container-id-1 div.sk-label label {font-family: monospace;font-weight: bold;display: inline-block;line-height: 1.2em;}#sk-container-id-1 div.sk-label-container {text-align: center;}#sk-container-id-1 div.sk-container {/* jupyter's `normalize.less` sets `[hidden] { display: none; }` but bootstrap.min.css set `[hidden] { display: none !important; }` so we also need the `!important` here to be able to override the default hidden behavior on the sphinx rendered scikit-learn.org. See: https://github.com/scikit-learn/scikit-learn/issues/21755 */display: inline-block !important;position: relative;}#sk-container-id-1 div.sk-text-repr-fallback {display: none;}</style><div id=\"sk-container-id-1\" class=\"sk-top-container\"><div class=\"sk-text-repr-fallback\"><pre>LinearRegression()</pre><b>In a Jupyter environment, please rerun this cell to show the HTML representation or trust the notebook. <br />On GitHub, the HTML representation is unable to render, please try loading this page with nbviewer.org.</b></div><div class=\"sk-container\" hidden><div class=\"sk-item\"><div class=\"sk-estimator sk-toggleable\"><input class=\"sk-toggleable__control sk-hidden--visually\" id=\"sk-estimator-id-1\" type=\"checkbox\" checked><label for=\"sk-estimator-id-1\" class=\"sk-toggleable__label sk-toggleable__label-arrow\">LinearRegression</label><div class=\"sk-toggleable__content\"><pre>LinearRegression()</pre></div></div></div></div></div>"
            ]
          },
          "metadata": {},
          "execution_count": 21
        }
      ]
    },
    {
      "cell_type": "code",
      "source": [
        "# 가중 회귀와 일반 회귀의 회귀 계수 비교\n",
        "pd.DataFrame(\n",
        "    index = predictors,\n",
        "    data = {'house_lm': house_lm.coef_,\n",
        "            'house_wt': house_wt.coef_}\n",
        ")"
      ],
      "metadata": {
        "colab": {
          "base_uri": "https://localhost:8080/",
          "height": 206
        },
        "id": "2Qq9jSDeP5Ut",
        "outputId": "d77d750e-5ffa-47e6-854b-9ee8e3491295"
      },
      "execution_count": 22,
      "outputs": [
        {
          "output_type": "execute_result",
          "data": {
            "text/plain": [
              "                    house_lm       house_wt\n",
              "SqFtTotLiving     228.830604     245.024089\n",
              "SqFtLot            -0.060467      -0.292415\n",
              "Bathrooms      -19442.840398  -26085.970109\n",
              "Bedrooms       -47769.955185  -53608.876436\n",
              "BldgGrade      106106.963079  115242.434726"
            ],
            "text/html": [
              "\n",
              "  <div id=\"df-77561c7f-d295-4d1e-9fd9-46937d302c76\" class=\"colab-df-container\">\n",
              "    <div>\n",
              "<style scoped>\n",
              "    .dataframe tbody tr th:only-of-type {\n",
              "        vertical-align: middle;\n",
              "    }\n",
              "\n",
              "    .dataframe tbody tr th {\n",
              "        vertical-align: top;\n",
              "    }\n",
              "\n",
              "    .dataframe thead th {\n",
              "        text-align: right;\n",
              "    }\n",
              "</style>\n",
              "<table border=\"1\" class=\"dataframe\">\n",
              "  <thead>\n",
              "    <tr style=\"text-align: right;\">\n",
              "      <th></th>\n",
              "      <th>house_lm</th>\n",
              "      <th>house_wt</th>\n",
              "    </tr>\n",
              "  </thead>\n",
              "  <tbody>\n",
              "    <tr>\n",
              "      <th>SqFtTotLiving</th>\n",
              "      <td>228.830604</td>\n",
              "      <td>245.024089</td>\n",
              "    </tr>\n",
              "    <tr>\n",
              "      <th>SqFtLot</th>\n",
              "      <td>-0.060467</td>\n",
              "      <td>-0.292415</td>\n",
              "    </tr>\n",
              "    <tr>\n",
              "      <th>Bathrooms</th>\n",
              "      <td>-19442.840398</td>\n",
              "      <td>-26085.970109</td>\n",
              "    </tr>\n",
              "    <tr>\n",
              "      <th>Bedrooms</th>\n",
              "      <td>-47769.955185</td>\n",
              "      <td>-53608.876436</td>\n",
              "    </tr>\n",
              "    <tr>\n",
              "      <th>BldgGrade</th>\n",
              "      <td>106106.963079</td>\n",
              "      <td>115242.434726</td>\n",
              "    </tr>\n",
              "  </tbody>\n",
              "</table>\n",
              "</div>\n",
              "    <div class=\"colab-df-buttons\">\n",
              "\n",
              "  <div class=\"colab-df-container\">\n",
              "    <button class=\"colab-df-convert\" onclick=\"convertToInteractive('df-77561c7f-d295-4d1e-9fd9-46937d302c76')\"\n",
              "            title=\"Convert this dataframe to an interactive table.\"\n",
              "            style=\"display:none;\">\n",
              "\n",
              "  <svg xmlns=\"http://www.w3.org/2000/svg\" height=\"24px\" viewBox=\"0 -960 960 960\">\n",
              "    <path d=\"M120-120v-720h720v720H120Zm60-500h600v-160H180v160Zm220 220h160v-160H400v160Zm0 220h160v-160H400v160ZM180-400h160v-160H180v160Zm440 0h160v-160H620v160ZM180-180h160v-160H180v160Zm440 0h160v-160H620v160Z\"/>\n",
              "  </svg>\n",
              "    </button>\n",
              "\n",
              "  <style>\n",
              "    .colab-df-container {\n",
              "      display:flex;\n",
              "      gap: 12px;\n",
              "    }\n",
              "\n",
              "    .colab-df-convert {\n",
              "      background-color: #E8F0FE;\n",
              "      border: none;\n",
              "      border-radius: 50%;\n",
              "      cursor: pointer;\n",
              "      display: none;\n",
              "      fill: #1967D2;\n",
              "      height: 32px;\n",
              "      padding: 0 0 0 0;\n",
              "      width: 32px;\n",
              "    }\n",
              "\n",
              "    .colab-df-convert:hover {\n",
              "      background-color: #E2EBFA;\n",
              "      box-shadow: 0px 1px 2px rgba(60, 64, 67, 0.3), 0px 1px 3px 1px rgba(60, 64, 67, 0.15);\n",
              "      fill: #174EA6;\n",
              "    }\n",
              "\n",
              "    .colab-df-buttons div {\n",
              "      margin-bottom: 4px;\n",
              "    }\n",
              "\n",
              "    [theme=dark] .colab-df-convert {\n",
              "      background-color: #3B4455;\n",
              "      fill: #D2E3FC;\n",
              "    }\n",
              "\n",
              "    [theme=dark] .colab-df-convert:hover {\n",
              "      background-color: #434B5C;\n",
              "      box-shadow: 0px 1px 3px 1px rgba(0, 0, 0, 0.15);\n",
              "      filter: drop-shadow(0px 1px 2px rgba(0, 0, 0, 0.3));\n",
              "      fill: #FFFFFF;\n",
              "    }\n",
              "  </style>\n",
              "\n",
              "    <script>\n",
              "      const buttonEl =\n",
              "        document.querySelector('#df-77561c7f-d295-4d1e-9fd9-46937d302c76 button.colab-df-convert');\n",
              "      buttonEl.style.display =\n",
              "        google.colab.kernel.accessAllowed ? 'block' : 'none';\n",
              "\n",
              "      async function convertToInteractive(key) {\n",
              "        const element = document.querySelector('#df-77561c7f-d295-4d1e-9fd9-46937d302c76');\n",
              "        const dataTable =\n",
              "          await google.colab.kernel.invokeFunction('convertToInteractive',\n",
              "                                                    [key], {});\n",
              "        if (!dataTable) return;\n",
              "\n",
              "        const docLinkHtml = 'Like what you see? Visit the ' +\n",
              "          '<a target=\"_blank\" href=https://colab.research.google.com/notebooks/data_table.ipynb>data table notebook</a>'\n",
              "          + ' to learn more about interactive tables.';\n",
              "        element.innerHTML = '';\n",
              "        dataTable['output_type'] = 'display_data';\n",
              "        await google.colab.output.renderOutput(dataTable, element);\n",
              "        const docLink = document.createElement('div');\n",
              "        docLink.innerHTML = docLinkHtml;\n",
              "        element.appendChild(docLink);\n",
              "      }\n",
              "    </script>\n",
              "  </div>\n",
              "\n",
              "\n",
              "<div id=\"df-938784f9-ae16-4460-b3e9-a43fb8922c86\">\n",
              "  <button class=\"colab-df-quickchart\" onclick=\"quickchart('df-938784f9-ae16-4460-b3e9-a43fb8922c86')\"\n",
              "            title=\"Suggest charts\"\n",
              "            style=\"display:none;\">\n",
              "\n",
              "<svg xmlns=\"http://www.w3.org/2000/svg\" height=\"24px\"viewBox=\"0 0 24 24\"\n",
              "     width=\"24px\">\n",
              "    <g>\n",
              "        <path d=\"M19 3H5c-1.1 0-2 .9-2 2v14c0 1.1.9 2 2 2h14c1.1 0 2-.9 2-2V5c0-1.1-.9-2-2-2zM9 17H7v-7h2v7zm4 0h-2V7h2v10zm4 0h-2v-4h2v4z\"/>\n",
              "    </g>\n",
              "</svg>\n",
              "  </button>\n",
              "\n",
              "<style>\n",
              "  .colab-df-quickchart {\n",
              "      --bg-color: #E8F0FE;\n",
              "      --fill-color: #1967D2;\n",
              "      --hover-bg-color: #E2EBFA;\n",
              "      --hover-fill-color: #174EA6;\n",
              "      --disabled-fill-color: #AAA;\n",
              "      --disabled-bg-color: #DDD;\n",
              "  }\n",
              "\n",
              "  [theme=dark] .colab-df-quickchart {\n",
              "      --bg-color: #3B4455;\n",
              "      --fill-color: #D2E3FC;\n",
              "      --hover-bg-color: #434B5C;\n",
              "      --hover-fill-color: #FFFFFF;\n",
              "      --disabled-bg-color: #3B4455;\n",
              "      --disabled-fill-color: #666;\n",
              "  }\n",
              "\n",
              "  .colab-df-quickchart {\n",
              "    background-color: var(--bg-color);\n",
              "    border: none;\n",
              "    border-radius: 50%;\n",
              "    cursor: pointer;\n",
              "    display: none;\n",
              "    fill: var(--fill-color);\n",
              "    height: 32px;\n",
              "    padding: 0;\n",
              "    width: 32px;\n",
              "  }\n",
              "\n",
              "  .colab-df-quickchart:hover {\n",
              "    background-color: var(--hover-bg-color);\n",
              "    box-shadow: 0 1px 2px rgba(60, 64, 67, 0.3), 0 1px 3px 1px rgba(60, 64, 67, 0.15);\n",
              "    fill: var(--button-hover-fill-color);\n",
              "  }\n",
              "\n",
              "  .colab-df-quickchart-complete:disabled,\n",
              "  .colab-df-quickchart-complete:disabled:hover {\n",
              "    background-color: var(--disabled-bg-color);\n",
              "    fill: var(--disabled-fill-color);\n",
              "    box-shadow: none;\n",
              "  }\n",
              "\n",
              "  .colab-df-spinner {\n",
              "    border: 2px solid var(--fill-color);\n",
              "    border-color: transparent;\n",
              "    border-bottom-color: var(--fill-color);\n",
              "    animation:\n",
              "      spin 1s steps(1) infinite;\n",
              "  }\n",
              "\n",
              "  @keyframes spin {\n",
              "    0% {\n",
              "      border-color: transparent;\n",
              "      border-bottom-color: var(--fill-color);\n",
              "      border-left-color: var(--fill-color);\n",
              "    }\n",
              "    20% {\n",
              "      border-color: transparent;\n",
              "      border-left-color: var(--fill-color);\n",
              "      border-top-color: var(--fill-color);\n",
              "    }\n",
              "    30% {\n",
              "      border-color: transparent;\n",
              "      border-left-color: var(--fill-color);\n",
              "      border-top-color: var(--fill-color);\n",
              "      border-right-color: var(--fill-color);\n",
              "    }\n",
              "    40% {\n",
              "      border-color: transparent;\n",
              "      border-right-color: var(--fill-color);\n",
              "      border-top-color: var(--fill-color);\n",
              "    }\n",
              "    60% {\n",
              "      border-color: transparent;\n",
              "      border-right-color: var(--fill-color);\n",
              "    }\n",
              "    80% {\n",
              "      border-color: transparent;\n",
              "      border-right-color: var(--fill-color);\n",
              "      border-bottom-color: var(--fill-color);\n",
              "    }\n",
              "    90% {\n",
              "      border-color: transparent;\n",
              "      border-bottom-color: var(--fill-color);\n",
              "    }\n",
              "  }\n",
              "</style>\n",
              "\n",
              "  <script>\n",
              "    async function quickchart(key) {\n",
              "      const quickchartButtonEl =\n",
              "        document.querySelector('#' + key + ' button');\n",
              "      quickchartButtonEl.disabled = true;  // To prevent multiple clicks.\n",
              "      quickchartButtonEl.classList.add('colab-df-spinner');\n",
              "      try {\n",
              "        const charts = await google.colab.kernel.invokeFunction(\n",
              "            'suggestCharts', [key], {});\n",
              "      } catch (error) {\n",
              "        console.error('Error during call to suggestCharts:', error);\n",
              "      }\n",
              "      quickchartButtonEl.classList.remove('colab-df-spinner');\n",
              "      quickchartButtonEl.classList.add('colab-df-quickchart-complete');\n",
              "    }\n",
              "    (() => {\n",
              "      let quickchartButtonEl =\n",
              "        document.querySelector('#df-938784f9-ae16-4460-b3e9-a43fb8922c86 button');\n",
              "      quickchartButtonEl.style.display =\n",
              "        google.colab.kernel.accessAllowed ? 'block' : 'none';\n",
              "    })();\n",
              "  </script>\n",
              "</div>\n",
              "\n",
              "    </div>\n",
              "  </div>\n"
            ],
            "application/vnd.google.colaboratory.intrinsic+json": {
              "type": "dataframe",
              "summary": "{\n  \"name\": \")\",\n  \"rows\": 5,\n  \"fields\": [\n    {\n      \"column\": \"house_lm\",\n      \"properties\": {\n        \"dtype\": \"number\",\n        \"std\": 58336.54898228457,\n        \"min\": -47769.95518521438,\n        \"max\": 106106.96307898081,\n        \"num_unique_values\": 5,\n        \"samples\": [\n          -0.06046682065307607,\n          106106.96307898081,\n          -19442.840398321066\n        ],\n        \"semantic_type\": \"\",\n        \"description\": \"\"\n      }\n    },\n    {\n      \"column\": \"house_wt\",\n      \"properties\": {\n        \"dtype\": \"number\",\n        \"std\": 64379.83037341265,\n        \"min\": -53608.876436313745,\n        \"max\": 115242.43472609237,\n        \"num_unique_values\": 5,\n        \"samples\": [\n          -0.292414748005541,\n          115242.43472609237,\n          -26085.97010861501\n        ],\n        \"semantic_type\": \"\",\n        \"description\": \"\"\n      }\n    }\n  ]\n}"
            }
          },
          "metadata": {},
          "execution_count": 22
        }
      ]
    },
    {
      "cell_type": "markdown",
      "source": [
        "- 두 모델의 회귀 계수를 보면 조금 차이가 나는 것을 확인 할 수 있다."
      ],
      "metadata": {
        "id": "pWuTKI7wQkpM"
      }
    },
    {
      "cell_type": "markdown",
      "source": [
        "## Keyword\n",
        "\n",
        "- RMSE : 회귀 평가 지표중 하나.\n",
        "- $R^2$ : 결정 계수 , 모델의 설명력 , 모델에 의해서 설명되 분산의 비율\n",
        "- t 통계량 : 모델에서 변수의 중요도를 비교하는 기준.\n",
        "- RSE(잔차표준오차) : 자유도에 의해서 보정된 값(?)"
      ],
      "metadata": {
        "id": "YjWYhmgcjDXa"
      }
    },
    {
      "cell_type": "markdown",
      "source": [
        "# 회귀를 이용한 예측"
      ],
      "metadata": {
        "id": "zvVx06_Q6jaS"
      }
    },
    {
      "cell_type": "markdown",
      "source": [
        "- 데이터 과학 에서 회귀는 예측이 목적.\n",
        "- 전통적 통계 에서 회귀는 설명을 위한 모델링."
      ],
      "metadata": {
        "id": "QDignnq46ogr"
      }
    },
    {
      "cell_type": "code",
      "source": [],
      "metadata": {
        "id": "4swOmbu6XAcN"
      },
      "execution_count": 22,
      "outputs": []
    },
    {
      "cell_type": "markdown",
      "source": [
        "## 외삽의 위험\n",
        " - 회귀 모형을 데이터 범위를 초과하면서 까지 외삽에 사용 해서는 안된다.\n",
        " - 훈련 범위 밖의 데이터에 대한 예측을 위한 정보가 없기 때문에 큰오차가 발생 할 가능성이 높다.\n",
        ""
      ],
      "metadata": {
        "id": "lUsGaIIA7ALo"
      }
    },
    {
      "cell_type": "markdown",
      "source": [
        "## 예측 구간과 신뢰 구간\n",
        "  - 예측 구간 : 하나의 값에 대해서 불확실성과 관련.\n",
        "  - 신뢰 구간 : 여러 값에서 계산된 평균이나 다른 통계량과 관련.\n",
        "    - 회귀 계수 주변의 불확실성.\n",
        "\n",
        "  - 일반적으로 데이터과학에서는 특정 예측에 대한 관심이 있으므로 예측 구간이 더 적절할 수 있다. 예측구간을 사용 해야 하는데 신뢰 구간을 사용 하게 되면 , 예측값의 불확실성이 지나치게 낮은 것으로 나타날 수 있다."
      ],
      "metadata": {
        "id": "WfcS0V0o7iBW"
      }
    },
    {
      "cell_type": "markdown",
      "source": [
        "### kewowrd\n",
        "\n",
        "- 외삽 ; 모델링에 사용된 데이터 범위를 벗어난 부분까지 모델을 확장 하는것.."
      ],
      "metadata": {
        "id": "o8NqGDGK62Qz"
      }
    },
    {
      "cell_type": "markdown",
      "source": [
        "# 회귀에서의 요인 변수\n",
        "  - 범주형 변수"
      ],
      "metadata": {
        "id": "FWd1gI9z9188"
      }
    },
    {
      "cell_type": "markdown",
      "source": [
        "### keyword\n",
        "  -"
      ],
      "metadata": {
        "id": "YQwUs3Lc-JgE"
      }
    }
  ]
}